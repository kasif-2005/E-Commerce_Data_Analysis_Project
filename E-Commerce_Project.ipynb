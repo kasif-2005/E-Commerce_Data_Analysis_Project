{
 "cells": [
  {
   "cell_type": "markdown",
   "id": "cbdecef4",
   "metadata": {},
   "source": [
    "Importing Numpy, Matplotllib, Pandas, Seaborn"
   ]
  },
  {
   "cell_type": "code",
   "execution_count": 3,
   "id": "c93f4a89",
   "metadata": {},
   "outputs": [],
   "source": [
    "import matplotlib.pyplot as plt\n",
    "import pandas as pd\n",
    "import numpy as np\n",
    "import seaborn as sns"
   ]
  },
  {
   "cell_type": "markdown",
   "id": "d5f61913",
   "metadata": {},
   "source": [
    "Importing CSV Files for Data Analysis"
   ]
  },
  {
   "cell_type": "code",
   "execution_count": 4,
   "id": "4b7e2944",
   "metadata": {},
   "outputs": [
    {
     "name": "stdout",
     "output_type": "stream",
     "text": [
      "  Order ID  Order Date CustomerName           State       City\n",
      "0  B-25601  01-04-2018       Bharat         Gujarat  Ahmedabad\n",
      "1  B-25602  01-04-2018        Pearl     Maharashtra       Pune\n",
      "2  B-25603  03-04-2018        Jahan  Madhya Pradesh     Bhopal\n",
      "3  B-25604  03-04-2018       Divsha       Rajasthan     Jaipur\n",
      "4  B-25605  05-04-2018      Kasheen     West Bengal    Kolkata\n",
      "  Order ID  Amount  Profit  Quantity     Category      Sub-Category\n",
      "0  B-25601  1275.0 -1148.0         7    Furniture         Bookcases\n",
      "1  B-25601    66.0   -12.0         5     Clothing             Stole\n",
      "2  B-25601     8.0    -2.0         3     Clothing       Hankerchief\n",
      "3  B-25601    80.0   -56.0         4  Electronics  Electronic Games\n",
      "4  B-25602   168.0  -111.0         2  Electronics            Phones\n",
      "  Month of Order Date   Category  Target\n",
      "0              Apr-18  Furniture   10400\n",
      "1              May-18  Furniture   10500\n",
      "2              Jun-18  Furniture   10600\n",
      "3              Jul-18  Furniture   10800\n",
      "4              Aug-18  Furniture   10900\n"
     ]
    },
    {
     "name": "stderr",
     "output_type": "stream",
     "text": [
      "<>:1: SyntaxWarning: invalid escape sequence '\\('\n",
      "<>:2: SyntaxWarning: invalid escape sequence '\\('\n",
      "<>:3: SyntaxWarning: invalid escape sequence '\\('\n",
      "<>:1: SyntaxWarning: invalid escape sequence '\\('\n",
      "<>:2: SyntaxWarning: invalid escape sequence '\\('\n",
      "<>:3: SyntaxWarning: invalid escape sequence '\\('\n",
      "C:\\Users\\kasif\\AppData\\Local\\Temp\\ipykernel_9088\\3622916156.py:1: SyntaxWarning: invalid escape sequence '\\('\n",
      "  o = pd.read_csv(\"D:\\(DATA) Data Analysis\\E-commerce(list of orders).csv\")     #loo = orders\n",
      "C:\\Users\\kasif\\AppData\\Local\\Temp\\ipykernel_9088\\3622916156.py:2: SyntaxWarning: invalid escape sequence '\\('\n",
      "  od = pd.read_csv(\"D:\\(DATA) Data Analysis\\E-commerce(order details).csv\")       #od = order details\n",
      "C:\\Users\\kasif\\AppData\\Local\\Temp\\ipykernel_9088\\3622916156.py:3: SyntaxWarning: invalid escape sequence '\\('\n",
      "  sl = pd.read_csv(\"D:\\(DATA) Data Analysis\\E-commerce(sale target).csv\")         #sl = sale target\n"
     ]
    }
   ],
   "source": [
    "o = pd.read_csv(\"D:\\(DATA) Data Analysis\\E-commerce(list of orders).csv\")     #loo = orders\n",
    "od = pd.read_csv(\"D:\\(DATA) Data Analysis\\E-commerce(order details).csv\")       #od = order details\n",
    "sl = pd.read_csv(\"D:\\(DATA) Data Analysis\\E-commerce(sale target).csv\")         #sl = sale target\n",
    "print(o.head(5))\n",
    "print(od.head(5))\n",
    "print(sl.head(5))"
   ]
  },
  {
   "cell_type": "markdown",
   "id": "0dfe6cde",
   "metadata": {},
   "source": [
    "Merge orders and order details on Order ID.\n"
   ]
  },
  {
   "cell_type": "code",
   "execution_count": 5,
   "id": "f078c911",
   "metadata": {},
   "outputs": [
    {
     "name": "stdout",
     "output_type": "stream",
     "text": [
      "  Order ID  Order Date CustomerName        State       City  Amount  Profit  \\\n",
      "0  B-25601  01-04-2018       Bharat      Gujarat  Ahmedabad  1275.0 -1148.0   \n",
      "1  B-25601  01-04-2018       Bharat      Gujarat  Ahmedabad    66.0   -12.0   \n",
      "2  B-25601  01-04-2018       Bharat      Gujarat  Ahmedabad     8.0    -2.0   \n",
      "3  B-25601  01-04-2018       Bharat      Gujarat  Ahmedabad    80.0   -56.0   \n",
      "4  B-25602  01-04-2018        Pearl  Maharashtra       Pune   168.0  -111.0   \n",
      "\n",
      "   Quantity     Category      Sub-Category  \n",
      "0         7    Furniture         Bookcases  \n",
      "1         5     Clothing             Stole  \n",
      "2         3     Clothing       Hankerchief  \n",
      "3         4  Electronics  Electronic Games  \n",
      "4         2  Electronics            Phones  \n"
     ]
    }
   ],
   "source": [
    "df = pd.merge(o, od, on='Order ID', how='inner')\n",
    "print(df.head(5))"
   ]
  },
  {
   "cell_type": "markdown",
   "id": "6e0c32cc",
   "metadata": {},
   "source": [
    "Convert Order Date to datetime and extract Month, Year.\n"
   ]
  },
  {
   "cell_type": "code",
   "execution_count": 6,
   "id": "9fac71f7",
   "metadata": {},
   "outputs": [
    {
     "name": "stdout",
     "output_type": "stream",
     "text": [
      "2018-03-04 00:00:00\n"
     ]
    }
   ],
   "source": [
    "from datetime import datetime\n",
    "\n",
    "date_str = (o['Order Date'][2])\n",
    "date_obj = datetime.strptime(date_str, \"%m-%d-%Y\")\n",
    "\n",
    "print(date_obj)\n"
   ]
  },
  {
   "cell_type": "markdown",
   "id": "40d3d4ac",
   "metadata": {},
   "source": [
    "Join with sales target using month and category.\n"
   ]
  },
  {
   "cell_type": "code",
   "execution_count": 7,
   "id": "c86b45fc",
   "metadata": {},
   "outputs": [
    {
     "name": "stdout",
     "output_type": "stream",
     "text": [
      "  Order ID Order Date CustomerName        State       City  Amount  Profit  \\\n",
      "0  B-25601 2018-04-01       Bharat      Gujarat  Ahmedabad  1275.0 -1148.0   \n",
      "1  B-25601 2018-04-01       Bharat      Gujarat  Ahmedabad    66.0   -12.0   \n",
      "2  B-25601 2018-04-01       Bharat      Gujarat  Ahmedabad     8.0    -2.0   \n",
      "3  B-25601 2018-04-01       Bharat      Gujarat  Ahmedabad    80.0   -56.0   \n",
      "4  B-25602 2018-04-01        Pearl  Maharashtra       Pune   168.0  -111.0   \n",
      "\n",
      "   Quantity     Category      Sub-Category Month  Target  \n",
      "0         7    Furniture         Bookcases   Apr   10400  \n",
      "1         5     Clothing             Stole   Apr   12000  \n",
      "2         3     Clothing       Hankerchief   Apr   12000  \n",
      "3         4  Electronics  Electronic Games   Apr    9000  \n",
      "4         2  Electronics            Phones   Apr    9000  \n"
     ]
    }
   ],
   "source": [
    "# 1. Convert to datetime safely\n",
    "df['Order Date'] = pd.to_datetime(df['Order Date'], format='%d-%m-%Y', errors='coerce')\n",
    "\n",
    "# 2. Extract month abbreviation (e.g. 'Apr', 'May')\n",
    "df['Month'] = df['Order Date'].dt.strftime('%b')\n",
    "\n",
    "# 3. Normalize month in sl to abbreviation too\n",
    "# If sl[\"Month of Order Date\"] is a date column:\n",
    "if not pd.api.types.is_string_dtype(sl['Month of Order Date']):\n",
    "    sl['Month of Order Date'] = pd.to_datetime(sl['Month of Order Date'], errors='coerce').dt.strftime('%b')\n",
    "\n",
    "# If it's text like \"April\", \"May\", etc.:\n",
    "sl['Month of Order Date'] = sl['Month of Order Date'].astype(str).str.strip().str[:3].str.title()\n",
    "\n",
    "# 4. Merge on Month + Category\n",
    "final_df = pd.merge(\n",
    "    df,\n",
    "    sl[['Month of Order Date', 'Category', 'Target']],\n",
    "    left_on=['Month', 'Category'],\n",
    "    right_on=['Month of Order Date', 'Category'],\n",
    "    how='left'\n",
    ")\n",
    "\n",
    "# 5. Cleanup\n",
    "final_df.drop(columns=['Month of Order Date'], inplace=True)\n",
    "print(final_df.head(5))\n"
   ]
  },
  {
   "cell_type": "markdown",
   "id": "54bce26c",
   "metadata": {},
   "source": [
    "Handle missing data (e.g., orders with no details or targets).\n"
   ]
  },
  {
   "cell_type": "code",
   "execution_count": 8,
   "id": "c2a29e2f",
   "metadata": {},
   "outputs": [
    {
     "name": "stdout",
     "output_type": "stream",
     "text": [
      "Order ID        0\n",
      "Order Date      0\n",
      "CustomerName    0\n",
      "State           0\n",
      "City            0\n",
      "Amount          0\n",
      "Profit          0\n",
      "Quantity        0\n",
      "Category        0\n",
      "Sub-Category    0\n",
      "Month           0\n",
      "Target          0\n",
      "dtype: int64\n"
     ]
    }
   ],
   "source": [
    "final_df_null = pd.isnull(final_df).sum()\n",
    "print(final_df_null)"
   ]
  },
  {
   "cell_type": "markdown",
   "id": "931de5ae",
   "metadata": {},
   "source": [
    "Calculate total Amount, Profit, and Quantity per:\n",
    "Category, \n",
    "State, "
   ]
  },
  {
   "cell_type": "code",
   "execution_count": 9,
   "id": "9c356a3f",
   "metadata": {},
   "outputs": [
    {
     "name": "stdout",
     "output_type": "stream",
     "text": [
      "       Category              State   Amount  Profit  Quantity\n",
      "0      Clothing     Andhra Pradesh   3244.0   596.0        86\n",
      "1      Clothing              Bihar   2963.0     1.0       120\n",
      "2      Clothing              Delhi   5884.0   822.0       183\n",
      "3      Clothing                Goa   2385.0    67.0       114\n",
      "4      Clothing            Gujarat   7759.0   362.0       239\n",
      "5      Clothing            Haryana   2854.0    67.0        54\n",
      "6      Clothing   Himachal Pradesh   1337.0   146.0        65\n",
      "7      Clothing  Jammu and Kashmir   3483.0   -70.0        98\n",
      "8      Clothing          Karnataka   5073.0  -535.0       116\n",
      "9      Clothing            Kerala    6360.0   978.0        94\n",
      "10     Clothing     Madhya Pradesh  30566.0  1061.0       857\n",
      "11     Clothing        Maharashtra  28542.0  2516.0       595\n",
      "12     Clothing           Nagaland   4050.0   237.0        99\n",
      "13     Clothing             Punjab   8419.0  1452.0       151\n",
      "14     Clothing          Rajasthan   6440.0   450.0       166\n",
      "15     Clothing             Sikkim   3139.0   403.0        73\n",
      "16     Clothing         Tamil Nadu   1956.0   -98.0        56\n",
      "17     Clothing      Uttar Pradesh   8208.0  1186.0       198\n",
      "18     Clothing        West Bengal   6392.0  1522.0       152\n",
      "19  Electronics     Andhra Pradesh   4505.0   476.0        28\n",
      "20  Electronics              Bihar   7357.0  -814.0        67\n",
      "21  Electronics              Delhi   5111.0  1527.0        35\n",
      "22  Electronics                Goa   2157.0   216.0        24\n",
      "23  Electronics            Gujarat   4981.0   158.0        31\n",
      "24  Electronics            Haryana   2584.0   492.0        18\n",
      "25  Electronics   Himachal Pradesh   4675.0   473.0        30\n",
      "26  Electronics  Jammu and Kashmir   3817.0    23.0        43\n",
      "27  Electronics          Karnataka   6049.0   514.0        39\n",
      "28  Electronics            Kerala    3029.0   536.0        28\n",
      "29  Electronics     Madhya Pradesh  40529.0  3799.0       247\n",
      "30  Electronics        Maharashtra  42493.0  2611.0       264\n",
      "31  Electronics           Nagaland   4069.0 -1033.0        50\n",
      "32  Electronics             Punjab   6129.0 -2132.0        51\n",
      "33  Electronics          Rajasthan   9443.0   202.0        75\n",
      "34  Electronics             Sikkim   1527.0    64.0        18\n",
      "35  Electronics         Tamil Nadu   1090.0   369.0        11\n",
      "36  Electronics      Uttar Pradesh  10569.0  2311.0        57\n",
      "37  Electronics        West Bengal   5153.0   702.0        38\n",
      "38    Furniture     Andhra Pradesh   5507.0 -1568.0        32\n",
      "39    Furniture              Bihar   2623.0   492.0        19\n",
      "40    Furniture              Delhi  11536.0   638.0        59\n",
      "41    Furniture                Goa   2163.0    87.0         7\n",
      "42    Furniture            Gujarat   8318.0   -55.0        58\n",
      "43    Furniture            Haryana   3425.0   766.0        39\n",
      "44    Furniture   Himachal Pradesh   2654.0    37.0        18\n",
      "45    Furniture  Jammu and Kashmir   3529.0    55.0        36\n",
      "46    Furniture          Karnataka   3936.0   666.0        25\n",
      "47    Furniture            Kerala    4070.0   357.0        35\n",
      "48    Furniture     Madhya Pradesh  34045.0   691.0       256\n",
      "49    Furniture        Maharashtra  24313.0  1049.0       197\n",
      "50    Furniture           Nagaland   3784.0   944.0        24\n",
      "51    Furniture             Punjab   2238.0    71.0        14\n",
      "52    Furniture          Rajasthan   5266.0   605.0        41\n",
      "53    Furniture             Sikkim    610.0   -66.0         2\n",
      "54    Furniture         Tamil Nadu   3041.0 -2487.0        24\n",
      "55    Furniture      Uttar Pradesh   3582.0  -260.0        33\n",
      "56    Furniture        West Bengal   2541.0   276.0        26\n"
     ]
    }
   ],
   "source": [
    "Category_state = df.groupby(['Category', 'State']).agg({\n",
    "    'Amount':'sum',\n",
    "    'Profit':'sum',\n",
    "    'Quantity':'sum'\n",
    "}).reset_index()\n",
    "\n",
    "Category_state.to_excel('Amount&Profit&Quantity_by_Category&State.xlsx', index=True)\n",
    "print(Category_state)"
   ]
  },
  {
   "cell_type": "markdown",
   "id": "b31a8c03",
   "metadata": {},
   "source": [
    "Find which state or city generated the highest profit.\n"
   ]
  },
  {
   "cell_type": "code",
   "execution_count": 10,
   "id": "bd7d4505",
   "metadata": {},
   "outputs": [
    {
     "name": "stdout",
     "output_type": "stream",
     "text": [
      "City\n",
      "Pune    4539.0\n",
      "Name: Profit, dtype: float64\n",
      "State\n",
      "Maharashtra    6176.0\n",
      "Name: Profit, dtype: float64\n",
      "   Profit_x  Profit_y\n",
      "0       NaN    6176.0\n",
      "1    4539.0       NaN\n"
     ]
    }
   ],
   "source": [
    "Highest_profit_City = df.groupby('City')['Profit'].sum().sort_values(ascending=False).head(1)\n",
    "print(Highest_profit_City)\n",
    "\n",
    "Highest_profit_State = df.groupby('State')['Profit'].sum().sort_values(ascending=False).head(1)\n",
    "print(Highest_profit_State)\n",
    "\n",
    "Most_Profitable_State_Category = pd.merge(Highest_profit_City, Highest_profit_State, left_on='City', right_on='State' , how='outer')\n",
    "print(Most_Profitable_State_Category)\n",
    "Most_Profitable_State_Category.to_excel('Most_Profitable_State&Category.xlsx', index=True)"
   ]
  },
  {
   "cell_type": "markdown",
   "id": "d8bca032",
   "metadata": {},
   "source": [
    "Group by Month and Category.\n",
    "Compute total sales (Amount).\n"
   ]
  },
  {
   "cell_type": "code",
   "execution_count": 11,
   "id": "9848826b",
   "metadata": {},
   "outputs": [
    {
     "name": "stdout",
     "output_type": "stream",
     "text": [
      "       Category Month   Amount\n",
      "1      Clothing   Apr  13478.0\n",
      "12     Clothing   Aug  11822.0\n",
      "24     Clothing   Dec   9545.0\n",
      "30     Clothing   Feb   9569.0\n",
      "29     Clothing   Jan  13466.0\n",
      "9      Clothing   Jul   2981.0\n",
      "7      Clothing   Jun   8782.0\n",
      "33     Clothing   Mar  21418.0\n",
      "4      Clothing   May   9518.0\n",
      "21     Clothing   Nov  16270.0\n",
      "18     Clothing   Oct  11488.0\n",
      "15     Clothing   Sep  10717.0\n",
      "2   Electronics   Apr  11127.0\n",
      "14  Electronics   Aug   9539.0\n",
      "25  Electronics   Dec  18560.0\n",
      "31  Electronics   Feb  12593.0\n",
      "28  Electronics   Jan  26716.0\n",
      "11  Electronics   Jul   6502.0\n",
      "6   Electronics   Jun   9344.0\n",
      "35  Electronics   Mar  20860.0\n"
     ]
    }
   ],
   "source": [
    "# Convert 'Order Date' to datetime using the correct format (day-month-year)\n",
    "final_df['Order Date'] = pd.to_datetime(final_df['Order Date'], format='%d-%m-%Y')\n",
    "\n",
    "# Extract the abbreviated month name (e.g. Jan, Feb, Mar)\n",
    "final_df['Month'] = final_df['Order Date'].dt.strftime('%b')\n",
    "\n",
    "\n",
    "\n",
    "# Group by Category and Month, summing Amount\n",
    "Total_sales = final_df.groupby(['Category', 'Month'], sort=False).agg({\n",
    "    'Amount': 'sum'\n",
    "}).reset_index()\n",
    "\n",
    "Total_sales = Total_sales.sort_values(['Category', 'Month'])\n",
    "\n",
    "print(Total_sales.head(20))\n"
   ]
  },
  {
   "cell_type": "markdown",
   "id": "601b8373",
   "metadata": {},
   "source": [
    "Group by Month and Category.\n",
    "Compare with Target and calculate achievement % = (Actual / Target) * 100.\n"
   ]
  },
  {
   "cell_type": "code",
   "execution_count": 12,
   "id": "7fa3e7f1",
   "metadata": {},
   "outputs": [
    {
     "name": "stdout",
     "output_type": "stream",
     "text": [
      "      Category Month  Amount  Target  Achievement %\n",
      "0    Furniture   Apr  1275.0   10400      12.259615\n",
      "1     Clothing   Apr    66.0   12000       0.550000\n",
      "2     Clothing   Apr     8.0   12000       0.066667\n",
      "3  Electronics   Apr    80.0    9000       0.888889\n",
      "4  Electronics   Apr   168.0    9000       1.866667\n",
      "5  Electronics   Apr   424.0    9000       4.711111\n",
      "6  Electronics   Apr  2617.0    9000      29.077778\n",
      "7     Clothing   Apr   561.0   12000       4.675000\n",
      "8     Clothing   Apr   119.0   12000       0.991667\n",
      "9     Clothing   Apr  1355.0   12000      11.291667\n"
     ]
    }
   ],
   "source": [
    "final_df['Achievement %'] = (final_df['Amount'] / final_df['Target']) * 100\n",
    "print(final_df[['Category', 'Month', 'Amount', 'Target', 'Achievement %']].head(10))"
   ]
  },
  {
   "cell_type": "markdown",
   "id": "8bf16d0b",
   "metadata": {},
   "source": [
    "Group by Month and Category.\n",
    "Highlight months/categories that did not meet targets.\n"
   ]
  },
  {
   "cell_type": "code",
   "execution_count": 13,
   "id": "41b311ed",
   "metadata": {},
   "outputs": [
    {
     "name": "stdout",
     "output_type": "stream",
     "text": [
      "      Category Month  Amount  Target  Achievement %\n",
      "282   Clothing   Jun     4.0   12000           0.03\n",
      "1473  Clothing   Mar     6.0   16000           0.04\n",
      "814   Clothing   Nov     7.0   16000           0.04\n",
      "167   Clothing   May     6.0   12000           0.05\n",
      "162   Clothing   May     6.0   12000           0.05\n",
      "391   Clothing   Aug     7.0   14000           0.05\n",
      "381   Clothing   Jul     7.0   14000           0.05\n",
      "1202  Clothing   Feb     8.0   16000           0.05\n",
      "452   Clothing   Aug     9.0   14000           0.06\n",
      "765   Clothing   Nov    10.0   16000           0.06\n"
     ]
    }
   ],
   "source": [
    "final_df['Achievement %'] = (((final_df['Amount'] / final_df['Target']) * 100).round(2)).sort_index(ascending=False)\n",
    "print(final_df[['Category', 'Month', 'Amount', 'Target', 'Achievement %']]\n",
    "      .sort_values(by = 'Achievement %', ascending=True)\n",
    "      .head(10))"
   ]
  },
  {
   "cell_type": "markdown",
   "id": "67064445",
   "metadata": {},
   "source": [
    "Compute profit margin = Profit / Amount * 100.\n",
    "Top 5 most profitable sub-categories.\n"
   ]
  },
  {
   "cell_type": "code",
   "execution_count": 14,
   "id": "59835cbd",
   "metadata": {},
   "outputs": [
    {
     "name": "stdout",
     "output_type": "stream",
     "text": [
      "              profit_margin\n",
      "Sub-Category               \n",
      "Hankerchief     2239.880671\n",
      "T-shirt         1094.012844\n",
      "Stole            940.886371\n",
      "Shirt            774.397148\n",
      "Accessories      480.435379\n"
     ]
    }
   ],
   "source": [
    "final_df['profit_margin'] = (final_df['Profit']/final_df['Amount'])*100\n",
    "profitable_subcategories = final_df.groupby('Sub-Category').agg({\n",
    "    'profit_margin': 'sum'\n",
    "})\n",
    "\n",
    "profitable_subcategories.to_excel('Profitable_subcategories.xlsx', index=True)\n",
    "print(profitable_subcategories.sort_values(by='profit_margin', ascending=False).head(5))"
   ]
  },
  {
   "cell_type": "markdown",
   "id": "127c215f",
   "metadata": {},
   "source": [
    "Compute profit margin = Profit / Amount * 100.\n",
    "Bottom 5 loss-making sub-categories.\n"
   ]
  },
  {
   "cell_type": "code",
   "execution_count": 15,
   "id": "cd51594b",
   "metadata": {},
   "outputs": [
    {
     "name": "stdout",
     "output_type": "stream",
     "text": [
      "                  profit_margin\n",
      "Sub-Category                   \n",
      "Saree              -1644.189155\n",
      "Chairs             -1284.621788\n",
      "Electronic Games    -687.982022\n",
      "Furnishings         -485.732212\n",
      "Phones              -376.664588\n"
     ]
    }
   ],
   "source": [
    "final_df['profit_margin'] = (final_df['Profit']/final_df['Amount'])*100\n",
    "loss_making_subcategories = final_df.groupby('Sub-Category').agg({\n",
    "    'profit_margin': 'sum'\n",
    "})\n",
    "\n",
    "loss_making_subcategories.to_excel('Total_Amount_Profit_by_Category_State.xlsx', index=True)\n",
    "print(loss_making_subcategories.sort_values(by='profit_margin').head(5))"
   ]
  },
  {
   "cell_type": "markdown",
   "id": "64e99e8c",
   "metadata": {},
   "source": [
    "Compute profit margin = Profit / Amount * 100.\n",
    "Visualize with bar charts.\n"
   ]
  },
  {
   "cell_type": "code",
   "execution_count": 16,
   "id": "7b407d1e",
   "metadata": {},
   "outputs": [
    {
     "data": {
      "image/png": "[encoded data removed]",
      "text/plain": [
       "<Figure size 640x480 with 1 Axes>"
      ]
     },
     "metadata": {},
     "output_type": "display_data"
    }
   ],
   "source": [
    "final_df['profit_margin'] = (final_df['Profit']/final_df['Amount'])*100\n",
    "profitable_subcategories = final_df.groupby('Sub-Category').agg({\n",
    "    'profit_margin': 'mean'\n",
    "})\n",
    "\n",
    "# plt.figure(figsize=(10,6))\n",
    "plt.bar(profitable_subcategories.index, profitable_subcategories['profit_margin'])\n",
    "plt.xticks(rotation=45, ha='right')\n",
    "plt.xlabel('Sub-Category')\n",
    "plt.ylabel('Average Profit Margin (%)')\n",
    "plt.title('Average Profit Margin by Sub-Category')\n",
    "plt.savefig('Average_Profit_Margin_by_subcategory.png', bbox_inches='tight')"
   ]
  },
  {
   "cell_type": "markdown",
   "id": "bad2ec8d",
   "metadata": {},
   "source": [
    "Aggregate sales and profit by State.\n"
   ]
  },
  {
   "cell_type": "code",
   "execution_count": 17,
   "id": "f1dd92c7",
   "metadata": {},
   "outputs": [
    {
     "name": "stdout",
     "output_type": "stream",
     "text": [
      "                     Amount  Profit\n",
      "State                              \n",
      "Andhra Pradesh      13256.0  -496.0\n",
      "Bihar               12943.0  -321.0\n",
      "Delhi               22531.0  2987.0\n",
      "Goa                  6705.0   370.0\n",
      "Gujarat             21058.0   465.0\n",
      "Haryana              8863.0  1325.0\n",
      "Himachal Pradesh     8666.0   656.0\n",
      "Jammu and Kashmir   10829.0     8.0\n",
      "Karnataka           15058.0   645.0\n",
      "Kerala              13459.0  1871.0\n",
      "Madhya Pradesh     105140.0  5551.0\n",
      "Maharashtra         95348.0  6176.0\n",
      "Nagaland            11903.0   148.0\n",
      "Punjab              16786.0  -609.0\n",
      "Rajasthan           21149.0  1257.0\n",
      "Sikkim               5276.0   401.0\n",
      "Tamil Nadu           6087.0 -2216.0\n",
      "Uttar Pradesh       22359.0  3237.0\n",
      "West Bengal         14086.0  2500.0\n"
     ]
    }
   ],
   "source": [
    "Total_sales_Profit = final_df.groupby('State').agg({\n",
    "    'Amount':'sum', \n",
    "    'Profit':'sum'\n",
    "})\n",
    "\n",
    "Total_sales_Profit.to_excel('Total_Amount_Profit_by_State.xlsx', index=True)\n",
    "print(Total_sales_Profit)"
   ]
  },
  {
   "cell_type": "markdown",
   "id": "487073ee",
   "metadata": {},
   "source": [
    "Create a choropleth map (using plotly or folium) showing total sales by state.\n"
   ]
  },
  {
   "cell_type": "code",
   "execution_count": 18,
   "id": "1870edca",
   "metadata": {},
   "outputs": [
    {
     "data": {
      "application/vnd.plotly.v1+json": {
       "config": {
        "plotlyServerURL": "https://plot.ly"
       },
       "data": [
        {
         "coloraxis": "coloraxis",
         "featureidkey": "properties.NAME_1",
         "geo": "geo",
         "geojson": "https://raw.githubusercontent.com/geohacker/india/master/state/india_telengana.geojson",
         "hovertemplate": "<b>%{hovertext}</b><br><br>State=%{location}<br>Amount=%{z}<extra></extra>",
         "hovertext": [
          "Andhra Pradesh",
          "Bihar",
          "Delhi",
          "Goa",
          "Gujarat",
          "Haryana",
          "Himachal Pradesh",
          "Jammu and Kashmir",
          "Karnataka",
          "Kerala ",
          "Madhya Pradesh",
          "Maharashtra",
          "Nagaland",
          "Punjab",
          "Rajasthan",
          "Sikkim",
          "Tamil Nadu",
          "Uttar Pradesh",
          "West Bengal"
         ],
         "locations": [
          "Andhra Pradesh",
          "Bihar",
          "Delhi",
          "Goa",
          "Gujarat",
          "Haryana",
          "Himachal Pradesh",
          "Jammu and Kashmir",
          "Karnataka",
          "Kerala ",
          "Madhya Pradesh",
          "Maharashtra",
          "Nagaland",
          "Punjab",
          "Rajasthan",
          "Sikkim",
          "Tamil Nadu",
          "Uttar Pradesh",
          "West Bengal"
         ],
         "name": "",
         "type": "choropleth",
         "z": {
          "bdata": "AAAAAADkyUAAAAAAgEfJQAAAAADAANZAAAAAAAAxukAAAAAAgJDUQAAAAACAT8FAAAAAAADtwEAAAAAAgCbFQAAAAAAAac1AAAAAAIBJykAAAAAAQKv5QAAAAABAR/dAAAAAAIA/x0AAAAAAgGTQQAAAAABAp9RAAAAAAACctEAAAAAAAMe3QAAAAADA1dVAAAAAAACDy0A=",
          "dtype": "f8"
         }
        }
       ],
       "layout": {
        "coloraxis": {
         "colorbar": {
          "title": {
           "text": "Amount"
          }
         },
         "colorscale": [
          [
           0,
           "rgb(247,251,255)"
          ],
          [
           0.125,
           "rgb(222,235,247)"
          ],
          [
           0.25,
           "rgb(198,219,239)"
          ],
          [
           0.375,
           "rgb(158,202,225)"
          ],
          [
           0.5,
           "rgb(107,174,214)"
          ],
          [
           0.625,
           "rgb(66,146,198)"
          ],
          [
           0.75,
           "rgb(33,113,181)"
          ],
          [
           0.875,
           "rgb(8,81,156)"
          ],
          [
           1,
           "rgb(8,48,107)"
          ]
         ]
        },
        "geo": {
         "center": {},
         "domain": {
          "x": [
           0,
           1
          ],
          "y": [
           0,
           1
          ]
         },
         "fitbounds": "locations",
         "visible": false
        },
        "legend": {
         "tracegroupgap": 0
        },
        "template": {
         "data": {
          "bar": [
           {
            "error_x": {
             "color": "#2a3f5f"
            },
            "error_y": {
             "color": "#2a3f5f"
            },
            "marker": {
             "line": {
              "color": "#E5ECF6",
              "width": 0.5
             },
             "pattern": {
              "fillmode": "overlay",
              "size": 10,
              "solidity": 0.2
             }
            },
            "type": "bar"
           }
          ],
          "barpolar": [
           {
            "marker": {
             "line": {
              "color": "#E5ECF6",
              "width": 0.5
             },
             "pattern": {
              "fillmode": "overlay",
              "size": 10,
              "solidity": 0.2
             }
            },
            "type": "barpolar"
           }
          ],
          "carpet": [
           {
            "aaxis": {
             "endlinecolor": "#2a3f5f",
             "gridcolor": "white",
             "linecolor": "white",
             "minorgridcolor": "white",
             "startlinecolor": "#2a3f5f"
            },
            "baxis": {
             "endlinecolor": "#2a3f5f",
             "gridcolor": "white",
             "linecolor": "white",
             "minorgridcolor": "white",
             "startlinecolor": "#2a3f5f"
            },
            "type": "carpet"
           }
          ],
          "choropleth": [
           {
            "colorbar": {
             "outlinewidth": 0,
             "ticks": ""
            },
            "type": "choropleth"
           }
          ],
          "contour": [
           {
            "colorbar": {
             "outlinewidth": 0,
             "ticks": ""
            },
            "colorscale": [
             [
              0,
              "#0d0887"
             ],
             [
              0.1111111111111111,
              "#46039f"
             ],
             [
              0.2222222222222222,
              "#7201a8"
             ],
             [
              0.3333333333333333,
              "#9c179e"
             ],
             [
              0.4444444444444444,
              "#bd3786"
             ],
             [
              0.5555555555555556,
              "#d8576b"
             ],
             [
              0.6666666666666666,
              "#ed7953"
             ],
             [
              0.7777777777777778,
              "#fb9f3a"
             ],
             [
              0.8888888888888888,
              "#fdca26"
             ],
             [
              1,
              "#f0f921"
             ]
            ],
            "type": "contour"
           }
          ],
          "contourcarpet": [
           {
            "colorbar": {
             "outlinewidth": 0,
             "ticks": ""
            },
            "type": "contourcarpet"
           }
          ],
          "heatmap": [
           {
            "colorbar": {
             "outlinewidth": 0,
             "ticks": ""
            },
            "colorscale": [
             [
              0,
              "#0d0887"
             ],
             [
              0.1111111111111111,
              "#46039f"
             ],
             [
              0.2222222222222222,
              "#7201a8"
             ],
             [
              0.3333333333333333,
              "#9c179e"
             ],
             [
              0.4444444444444444,
              "#bd3786"
             ],
             [
              0.5555555555555556,
              "#d8576b"
             ],
             [
              0.6666666666666666,
              "#ed7953"
             ],
             [
              0.7777777777777778,
              "#fb9f3a"
             ],
             [
              0.8888888888888888,
              "#fdca26"
             ],
             [
              1,
              "#f0f921"
             ]
            ],
            "type": "heatmap"
           }
          ],
          "histogram": [
           {
            "marker": {
             "pattern": {
              "fillmode": "overlay",
              "size": 10,
              "solidity": 0.2
             }
            },
            "type": "histogram"
           }
          ],
          "histogram2d": [
           {
            "colorbar": {
             "outlinewidth": 0,
             "ticks": ""
            },
            "colorscale": [
             [
              0,
              "#0d0887"
             ],
             [
              0.1111111111111111,
              "#46039f"
             ],
             [
              0.2222222222222222,
              "#7201a8"
             ],
             [
              0.3333333333333333,
              "#9c179e"
             ],
             [
              0.4444444444444444,
              "#bd3786"
             ],
             [
              0.5555555555555556,
              "#d8576b"
             ],
             [
              0.6666666666666666,
              "#ed7953"
             ],
             [
              0.7777777777777778,
              "#fb9f3a"
             ],
             [
              0.8888888888888888,
              "#fdca26"
             ],
             [
              1,
              "#f0f921"
             ]
            ],
            "type": "histogram2d"
           }
          ],
          "histogram2dcontour": [
           {
            "colorbar": {
             "outlinewidth": 0,
             "ticks": ""
            },
            "colorscale": [
             [
              0,
              "#0d0887"
             ],
             [
              0.1111111111111111,
              "#46039f"
             ],
             [
              0.2222222222222222,
              "#7201a8"
             ],
             [
              0.3333333333333333,
              "#9c179e"
             ],
             [
              0.4444444444444444,
              "#bd3786"
             ],
             [
              0.5555555555555556,
              "#d8576b"
             ],
             [
              0.6666666666666666,
              "#ed7953"
             ],
             [
              0.7777777777777778,
              "#fb9f3a"
             ],
             [
              0.8888888888888888,
              "#fdca26"
             ],
             [
              1,
              "#f0f921"
             ]
            ],
            "type": "histogram2dcontour"
           }
          ],
          "mesh3d": [
           {
            "colorbar": {
             "outlinewidth": 0,
             "ticks": ""
            },
            "type": "mesh3d"
           }
          ],
          "parcoords": [
           {
            "line": {
             "colorbar": {
              "outlinewidth": 0,
              "ticks": ""
             }
            },
            "type": "parcoords"
           }
          ],
          "pie": [
           {
            "automargin": true,
            "type": "pie"
           }
          ],
          "scatter": [
           {
            "fillpattern": {
             "fillmode": "overlay",
             "size": 10,
             "solidity": 0.2
            },
            "type": "scatter"
           }
          ],
          "scatter3d": [
           {
            "line": {
             "colorbar": {
              "outlinewidth": 0,
              "ticks": ""
             }
            },
            "marker": {
             "colorbar": {
              "outlinewidth": 0,
              "ticks": ""
             }
            },
            "type": "scatter3d"
           }
          ],
          "scattercarpet": [
           {
            "marker": {
             "colorbar": {
              "outlinewidth": 0,
              "ticks": ""
             }
            },
            "type": "scattercarpet"
           }
          ],
          "scattergeo": [
           {
            "marker": {
             "colorbar": {
              "outlinewidth": 0,
              "ticks": ""
             }
            },
            "type": "scattergeo"
           }
          ],
          "scattergl": [
           {
            "marker": {
             "colorbar": {
              "outlinewidth": 0,
              "ticks": ""
             }
            },
            "type": "scattergl"
           }
          ],
          "scattermap": [
           {
            "marker": {
             "colorbar": {
              "outlinewidth": 0,
              "ticks": ""
             }
            },
            "type": "scattermap"
           }
          ],
          "scattermapbox": [
           {
            "marker": {
             "colorbar": {
              "outlinewidth": 0,
              "ticks": ""
             }
            },
            "type": "scattermapbox"
           }
          ],
          "scatterpolar": [
           {
            "marker": {
             "colorbar": {
              "outlinewidth": 0,
              "ticks": ""
             }
            },
            "type": "scatterpolar"
           }
          ],
          "scatterpolargl": [
           {
            "marker": {
             "colorbar": {
              "outlinewidth": 0,
              "ticks": ""
             }
            },
            "type": "scatterpolargl"
           }
          ],
          "scatterternary": [
           {
            "marker": {
             "colorbar": {
              "outlinewidth": 0,
              "ticks": ""
             }
            },
            "type": "scatterternary"
           }
          ],
          "surface": [
           {
            "colorbar": {
             "outlinewidth": 0,
             "ticks": ""
            },
            "colorscale": [
             [
              0,
              "#0d0887"
             ],
             [
              0.1111111111111111,
              "#46039f"
             ],
             [
              0.2222222222222222,
              "#7201a8"
             ],
             [
              0.3333333333333333,
              "#9c179e"
             ],
             [
              0.4444444444444444,
              "#bd3786"
             ],
             [
              0.5555555555555556,
              "#d8576b"
             ],
             [
              0.6666666666666666,
              "#ed7953"
             ],
             [
              0.7777777777777778,
              "#fb9f3a"
             ],
             [
              0.8888888888888888,
              "#fdca26"
             ],
             [
              1,
              "#f0f921"
             ]
            ],
            "type": "surface"
           }
          ],
          "table": [
           {
            "cells": {
             "fill": {
              "color": "#EBF0F8"
             },
             "line": {
              "color": "white"
             }
            },
            "header": {
             "fill": {
              "color": "#C8D4E3"
             },
             "line": {
              "color": "white"
             }
            },
            "type": "table"
           }
          ]
         },
         "layout": {
          "annotationdefaults": {
           "arrowcolor": "#2a3f5f",
           "arrowhead": 0,
           "arrowwidth": 1
          },
          "autotypenumbers": "strict",
          "coloraxis": {
           "colorbar": {
            "outlinewidth": 0,
            "ticks": ""
           }
          },
          "colorscale": {
           "diverging": [
            [
             0,
             "#8e0152"
            ],
            [
             0.1,
             "#c51b7d"
            ],
            [
             0.2,
             "#de77ae"
            ],
            [
             0.3,
             "#f1b6da"
            ],
            [
             0.4,
             "#fde0ef"
            ],
            [
             0.5,
             "#f7f7f7"
            ],
            [
             0.6,
             "#e6f5d0"
            ],
            [
             0.7,
             "#b8e186"
            ],
            [
             0.8,
             "#7fbc41"
            ],
            [
             0.9,
             "#4d9221"
            ],
            [
             1,
             "#276419"
            ]
           ],
           "sequential": [
            [
             0,
             "#0d0887"
            ],
            [
             0.1111111111111111,
             "#46039f"
            ],
            [
             0.2222222222222222,
             "#7201a8"
            ],
            [
             0.3333333333333333,
             "#9c179e"
            ],
            [
             0.4444444444444444,
             "#bd3786"
            ],
            [
             0.5555555555555556,
             "#d8576b"
            ],
            [
             0.6666666666666666,
             "#ed7953"
            ],
            [
             0.7777777777777778,
             "#fb9f3a"
            ],
            [
             0.8888888888888888,
             "#fdca26"
            ],
            [
             1,
             "#f0f921"
            ]
           ],
           "sequentialminus": [
            [
             0,
             "#0d0887"
            ],
            [
             0.1111111111111111,
             "#46039f"
            ],
            [
             0.2222222222222222,
             "#7201a8"
            ],
            [
             0.3333333333333333,
             "#9c179e"
            ],
            [
             0.4444444444444444,
             "#bd3786"
            ],
            [
             0.5555555555555556,
             "#d8576b"
            ],
            [
             0.6666666666666666,
             "#ed7953"
            ],
            [
             0.7777777777777778,
             "#fb9f3a"
            ],
            [
             0.8888888888888888,
             "#fdca26"
            ],
            [
             1,
             "#f0f921"
            ]
           ]
          },
          "colorway": [
           "#636efa",
           "#EF553B",
           "#00cc96",
           "#ab63fa",
           "#FFA15A",
           "#19d3f3",
           "#FF6692",
           "#B6E880",
           "#FF97FF",
           "#FECB52"
          ],
          "font": {
           "color": "#2a3f5f"
          },
          "geo": {
           "bgcolor": "white",
           "lakecolor": "white",
           "landcolor": "#E5ECF6",
           "showlakes": true,
           "showland": true,
           "subunitcolor": "white"
          },
          "hoverlabel": {
           "align": "left"
          },
          "hovermode": "closest",
          "mapbox": {
           "style": "light"
          },
          "paper_bgcolor": "white",
          "plot_bgcolor": "#E5ECF6",
          "polar": {
           "angularaxis": {
            "gridcolor": "white",
            "linecolor": "white",
            "ticks": ""
           },
           "bgcolor": "#E5ECF6",
           "radialaxis": {
            "gridcolor": "white",
            "linecolor": "white",
            "ticks": ""
           }
          },
          "scene": {
           "xaxis": {
            "backgroundcolor": "#E5ECF6",
            "gridcolor": "white",
            "gridwidth": 2,
            "linecolor": "white",
            "showbackground": true,
            "ticks": "",
            "zerolinecolor": "white"
           },
           "yaxis": {
            "backgroundcolor": "#E5ECF6",
            "gridcolor": "white",
            "gridwidth": 2,
            "linecolor": "white",
            "showbackground": true,
            "ticks": "",
            "zerolinecolor": "white"
           },
           "zaxis": {
            "backgroundcolor": "#E5ECF6",
            "gridcolor": "white",
            "gridwidth": 2,
            "linecolor": "white",
            "showbackground": true,
            "ticks": "",
            "zerolinecolor": "white"
           }
          },
          "shapedefaults": {
           "line": {
            "color": "#2a3f5f"
           }
          },
          "ternary": {
           "aaxis": {
            "gridcolor": "white",
            "linecolor": "white",
            "ticks": ""
           },
           "baxis": {
            "gridcolor": "white",
            "linecolor": "white",
            "ticks": ""
           },
           "bgcolor": "#E5ECF6",
           "caxis": {
            "gridcolor": "white",
            "linecolor": "white",
            "ticks": ""
           }
          },
          "title": {
           "x": 0.05
          },
          "xaxis": {
           "automargin": true,
           "gridcolor": "white",
           "linecolor": "white",
           "ticks": "",
           "title": {
            "standoff": 15
           },
           "zerolinecolor": "white",
           "zerolinewidth": 2
          },
          "yaxis": {
           "automargin": true,
           "gridcolor": "white",
           "linecolor": "white",
           "ticks": "",
           "title": {
            "standoff": 15
           },
           "zerolinecolor": "white",
           "zerolinewidth": 2
          }
         }
        },
        "title": {
         "text": "Total Sales Amount by State (India)"
        }
       }
      }
     },
     "metadata": {},
     "output_type": "display_data"
    }
   ],
   "source": [
    "import plotly.express as px\n",
    "import nbformat as nbformat\n",
    "\n",
    "# --- 1️⃣ Aggregate sales by state ---\n",
    "state_sales = final_df.groupby('State', as_index=False)['Amount'].sum()\n",
    "\n",
    "# --- 2️⃣ Create choropleth map ---\n",
    "fig = px.choropleth(\n",
    "    state_sales,\n",
    "    geojson='https://raw.githubusercontent.com/geohacker/india/master/state/india_telengana.geojson',\n",
    "    featureidkey='properties.NAME_1',\n",
    "    locations='State',\n",
    "    color='Amount',\n",
    "    color_continuous_scale='Blues',\n",
    "    title='Total Sales Amount by State (India)',\n",
    "    hover_name='State'\n",
    "\n",
    "\n",
    ")\n",
    "\n",
    "\n",
    "# --- 3️⃣ Adjust map layout ---\n",
    "fig.update_geos(fitbounds=\"locations\", visible=False)\n",
    "fig.write_image('Choropleth of Total Sales By State.png')\n",
    "fig.show()"
   ]
  },
  {
   "cell_type": "markdown",
   "id": "9be08342",
   "metadata": {},
   "source": [
    "Add interactive filters for category/month (optional advanced feature).\n"
   ]
  },
  {
   "cell_type": "code",
   "execution_count": 19,
   "id": "f11ad910",
   "metadata": {},
   "outputs": [
    {
     "data": {
      "application/vnd.plotly.v1+json": {
       "config": {
        "plotlyServerURL": "https://plot.ly"
       },
       "data": [
        {
         "coloraxis": "coloraxis",
         "customdata": [
          [
           12,
           "Clothing"
          ],
          [
           219,
           "Clothing"
          ],
          [
           194,
           "Clothing"
          ],
          [
           427,
           "Clothing"
          ],
          [
           1603,
           "Clothing"
          ],
          [
           19,
           "Clothing"
          ],
          [
           928,
           "Clothing"
          ],
          [
           547,
           "Clothing"
          ],
          [
           1720,
           "Clothing"
          ],
          [
           2173,
           "Clothing"
          ],
          [
           1471,
           "Clothing"
          ],
          [
           445,
           "Clothing"
          ],
          [
           363,
           "Clothing"
          ],
          [
           1260,
           "Clothing"
          ],
          [
           1275,
           "Clothing"
          ],
          [
           257,
           "Clothing"
          ],
          [
           25,
           "Clothing"
          ],
          [
           540,
           "Clothing"
          ]
         ],
         "featureidkey": "properties.NAME_1",
         "geo": "geo",
         "geojson": "https://raw.githubusercontent.com/geohacker/india/master/state/india_telengana.geojson",
         "hovertemplate": "<b>%{hovertext}</b><br><br>Month-Year=Apr-18<br>Category=%{customdata[1]}<br>State=%{location}<br>Amount=%{z}<extra></extra>",
         "hovertext": [
          "Andhra Pradesh",
          "Bihar",
          "Goa",
          "Gujarat",
          "Haryana",
          "Himachal Pradesh",
          "Jammu and Kashmir",
          "Karnataka",
          "Kerala ",
          "Madhya Pradesh",
          "Maharashtra",
          "Nagaland",
          "Punjab",
          "Rajasthan",
          "Sikkim",
          "Tamil Nadu",
          "Uttar Pradesh",
          "West Bengal"
         ],
         "locations": [
          "Andhra Pradesh",
          "Bihar",
          "Goa",
          "Gujarat",
          "Haryana",
          "Himachal Pradesh",
          "Jammu and Kashmir",
          "Karnataka",
          "Kerala ",
          "Madhya Pradesh",
          "Maharashtra",
          "Nagaland",
          "Punjab",
          "Rajasthan",
          "Sikkim",
          "Tamil Nadu",
          "Uttar Pradesh",
          "West Bengal"
         ],
         "name": "",
         "type": "choropleth",
         "z": {
          "bdata": "AAAAAAAAKEAAAAAAAGBrQAAAAAAAQGhAAAAAAACwekAAAAAAAAyZQAAAAAAAADNAAAAAAAAAjUAAAAAAABiBQAAAAAAA4JpAAAAAAAD6oEAAAAAAAPyWQAAAAAAA0HtAAAAAAACwdkAAAAAAALCTQAAAAAAA7JNAAAAAAAAQcEAAAAAAAAA5QAAAAAAA4IBA",
          "dtype": "f8"
         }
        },
        {
         "coloraxis": "coloraxis",
         "customdata": [
          [
           1925,
           "Electronics"
          ],
          [
           80,
           "Electronics"
          ],
          [
           98,
           "Electronics"
          ],
          [
           299,
           "Electronics"
          ],
          [
           2423,
           "Electronics"
          ],
          [
           4264,
           "Electronics"
          ],
          [
           305,
           "Electronics"
          ],
          [
           143,
           "Electronics"
          ],
          [
           249,
           "Electronics"
          ],
          [
           856,
           "Electronics"
          ],
          [
           485,
           "Electronics"
          ]
         ],
         "featureidkey": "properties.NAME_1",
         "geo": "geo2",
         "geojson": "https://raw.githubusercontent.com/geohacker/india/master/state/india_telengana.geojson",
         "hovertemplate": "<b>%{hovertext}</b><br><br>Month-Year=Apr-18<br>Category=%{customdata[1]}<br>State=%{location}<br>Amount=%{z}<extra></extra>",
         "hovertext": [
          "Bihar",
          "Gujarat",
          "Himachal Pradesh",
          "Jammu and Kashmir",
          "Madhya Pradesh",
          "Maharashtra",
          "Nagaland",
          "Punjab",
          "Sikkim",
          "Tamil Nadu",
          "Uttar Pradesh"
         ],
         "locations": [
          "Bihar",
          "Gujarat",
          "Himachal Pradesh",
          "Jammu and Kashmir",
          "Madhya Pradesh",
          "Maharashtra",
          "Nagaland",
          "Punjab",
          "Sikkim",
          "Tamil Nadu",
          "Uttar Pradesh"
         ],
         "name": "",
         "type": "choropleth",
         "z": {
          "bdata": "AAAAAAAUnkAAAAAAAABUQAAAAAAAgFhAAAAAAACwckAAAAAAAO6iQAAAAAAAqLBAAAAAAAAQc0AAAAAAAOBhQAAAAAAAIG9AAAAAAADAikAAAAAAAFB+QA==",
          "dtype": "f8"
         }
        },
        {
         "coloraxis": "coloraxis",
         "customdata": [
          [
           362,
           "Furniture"
          ],
          [
           65,
           "Furniture"
          ],
          [
           389,
           "Furniture"
          ],
          [
           1275,
           "Furniture"
          ],
          [
           89,
           "Furniture"
          ],
          [
           494,
           "Furniture"
          ],
          [
           1061,
           "Furniture"
          ],
          [
           24,
           "Furniture"
          ],
          [
           2241,
           "Furniture"
          ],
          [
           259,
           "Furniture"
          ],
          [
           1840,
           "Furniture"
          ],
          [
           22,
           "Furniture"
          ]
         ],
         "featureidkey": "properties.NAME_1",
         "geo": "geo3",
         "geojson": "https://raw.githubusercontent.com/geohacker/india/master/state/india_telengana.geojson",
         "hovertemplate": "<b>%{hovertext}</b><br><br>Month-Year=Apr-18<br>Category=%{customdata[1]}<br>State=%{location}<br>Amount=%{z}<extra></extra>",
         "hovertext": [
          "Andhra Pradesh",
          "Bihar",
          "Goa",
          "Gujarat",
          "Haryana",
          "Himachal Pradesh",
          "Jammu and Kashmir",
          "Madhya Pradesh",
          "Maharashtra",
          "Punjab",
          "Tamil Nadu",
          "West Bengal"
         ],
         "locations": [
          "Andhra Pradesh",
          "Bihar",
          "Goa",
          "Gujarat",
          "Haryana",
          "Himachal Pradesh",
          "Jammu and Kashmir",
          "Madhya Pradesh",
          "Maharashtra",
          "Punjab",
          "Tamil Nadu",
          "West Bengal"
         ],
         "name": "",
         "type": "choropleth",
         "z": {
          "bdata": "AAAAAACgdkAAAAAAAEBQQAAAAAAAUHhAAAAAAADsk0AAAAAAAEBWQAAAAAAA4H5AAAAAAACUkEAAAAAAAAA4QAAAAAAAgqFAAAAAAAAwcEAAAAAAAMCcQAAAAAAAADZA",
          "dtype": "f8"
         }
        }
       ],
       "frames": [
        {
         "data": [
          {
           "coloraxis": "coloraxis",
           "customdata": [
            [
             12,
             "Clothing"
            ],
            [
             219,
             "Clothing"
            ],
            [
             194,
             "Clothing"
            ],
            [
             427,
             "Clothing"
            ],
            [
             1603,
             "Clothing"
            ],
            [
             19,
             "Clothing"
            ],
            [
             928,
             "Clothing"
            ],
            [
             547,
             "Clothing"
            ],
            [
             1720,
             "Clothing"
            ],
            [
             2173,
             "Clothing"
            ],
            [
             1471,
             "Clothing"
            ],
            [
             445,
             "Clothing"
            ],
            [
             363,
             "Clothing"
            ],
            [
             1260,
             "Clothing"
            ],
            [
             1275,
             "Clothing"
            ],
            [
             257,
             "Clothing"
            ],
            [
             25,
             "Clothing"
            ],
            [
             540,
             "Clothing"
            ]
           ],
           "featureidkey": "properties.NAME_1",
           "geo": "geo",
           "geojson": "https://raw.githubusercontent.com/geohacker/india/master/state/india_telengana.geojson",
           "hovertemplate": "<b>%{hovertext}</b><br><br>Month-Year=Apr-18<br>Category=%{customdata[1]}<br>State=%{location}<br>Amount=%{z}<extra></extra>",
           "hovertext": [
            "Andhra Pradesh",
            "Bihar",
            "Goa",
            "Gujarat",
            "Haryana",
            "Himachal Pradesh",
            "Jammu and Kashmir",
            "Karnataka",
            "Kerala ",
            "Madhya Pradesh",
            "Maharashtra",
            "Nagaland",
            "Punjab",
            "Rajasthan",
            "Sikkim",
            "Tamil Nadu",
            "Uttar Pradesh",
            "West Bengal"
           ],
           "locations": [
            "Andhra Pradesh",
            "Bihar",
            "Goa",
            "Gujarat",
            "Haryana",
            "Himachal Pradesh",
            "Jammu and Kashmir",
            "Karnataka",
            "Kerala ",
            "Madhya Pradesh",
            "Maharashtra",
            "Nagaland",
            "Punjab",
            "Rajasthan",
            "Sikkim",
            "Tamil Nadu",
            "Uttar Pradesh",
            "West Bengal"
           ],
           "name": "",
           "type": "choropleth",
           "z": {
            "bdata": "AAAAAAAAKEAAAAAAAGBrQAAAAAAAQGhAAAAAAACwekAAAAAAAAyZQAAAAAAAADNAAAAAAAAAjUAAAAAAABiBQAAAAAAA4JpAAAAAAAD6oEAAAAAAAPyWQAAAAAAA0HtAAAAAAACwdkAAAAAAALCTQAAAAAAA7JNAAAAAAAAQcEAAAAAAAAA5QAAAAAAA4IBA",
            "dtype": "f8"
           }
          },
          {
           "coloraxis": "coloraxis",
           "customdata": [
            [
             1925,
             "Electronics"
            ],
            [
             80,
             "Electronics"
            ],
            [
             98,
             "Electronics"
            ],
            [
             299,
             "Electronics"
            ],
            [
             2423,
             "Electronics"
            ],
            [
             4264,
             "Electronics"
            ],
            [
             305,
             "Electronics"
            ],
            [
             143,
             "Electronics"
            ],
            [
             249,
             "Electronics"
            ],
            [
             856,
             "Electronics"
            ],
            [
             485,
             "Electronics"
            ]
           ],
           "featureidkey": "properties.NAME_1",
           "geo": "geo2",
           "geojson": "https://raw.githubusercontent.com/geohacker/india/master/state/india_telengana.geojson",
           "hovertemplate": "<b>%{hovertext}</b><br><br>Month-Year=Apr-18<br>Category=%{customdata[1]}<br>State=%{location}<br>Amount=%{z}<extra></extra>",
           "hovertext": [
            "Bihar",
            "Gujarat",
            "Himachal Pradesh",
            "Jammu and Kashmir",
            "Madhya Pradesh",
            "Maharashtra",
            "Nagaland",
            "Punjab",
            "Sikkim",
            "Tamil Nadu",
            "Uttar Pradesh"
           ],
           "locations": [
            "Bihar",
            "Gujarat",
            "Himachal Pradesh",
            "Jammu and Kashmir",
            "Madhya Pradesh",
            "Maharashtra",
            "Nagaland",
            "Punjab",
            "Sikkim",
            "Tamil Nadu",
            "Uttar Pradesh"
           ],
           "name": "",
           "type": "choropleth",
           "z": {
            "bdata": "AAAAAAAUnkAAAAAAAABUQAAAAAAAgFhAAAAAAACwckAAAAAAAO6iQAAAAAAAqLBAAAAAAAAQc0AAAAAAAOBhQAAAAAAAIG9AAAAAAADAikAAAAAAAFB+QA==",
            "dtype": "f8"
           }
          },
          {
           "coloraxis": "coloraxis",
           "customdata": [
            [
             362,
             "Furniture"
            ],
            [
             65,
             "Furniture"
            ],
            [
             389,
             "Furniture"
            ],
            [
             1275,
             "Furniture"
            ],
            [
             89,
             "Furniture"
            ],
            [
             494,
             "Furniture"
            ],
            [
             1061,
             "Furniture"
            ],
            [
             24,
             "Furniture"
            ],
            [
             2241,
             "Furniture"
            ],
            [
             259,
             "Furniture"
            ],
            [
             1840,
             "Furniture"
            ],
            [
             22,
             "Furniture"
            ]
           ],
           "featureidkey": "properties.NAME_1",
           "geo": "geo3",
           "geojson": "https://raw.githubusercontent.com/geohacker/india/master/state/india_telengana.geojson",
           "hovertemplate": "<b>%{hovertext}</b><br><br>Month-Year=Apr-18<br>Category=%{customdata[1]}<br>State=%{location}<br>Amount=%{z}<extra></extra>",
           "hovertext": [
            "Andhra Pradesh",
            "Bihar",
            "Goa",
            "Gujarat",
            "Haryana",
            "Himachal Pradesh",
            "Jammu and Kashmir",
            "Madhya Pradesh",
            "Maharashtra",
            "Punjab",
            "Tamil Nadu",
            "West Bengal"
           ],
           "locations": [
            "Andhra Pradesh",
            "Bihar",
            "Goa",
            "Gujarat",
            "Haryana",
            "Himachal Pradesh",
            "Jammu and Kashmir",
            "Madhya Pradesh",
            "Maharashtra",
            "Punjab",
            "Tamil Nadu",
            "West Bengal"
           ],
           "name": "",
           "type": "choropleth",
           "z": {
            "bdata": "AAAAAACgdkAAAAAAAEBQQAAAAAAAUHhAAAAAAADsk0AAAAAAAEBWQAAAAAAA4H5AAAAAAACUkEAAAAAAAAA4QAAAAAAAgqFAAAAAAAAwcEAAAAAAAMCcQAAAAAAAADZA",
            "dtype": "f8"
           }
          }
         ],
         "name": "Apr-18"
        },
        {
         "data": [
          {
           "coloraxis": "coloraxis",
           "customdata": [
            [
             77,
             "Clothing"
            ],
            [
             440,
             "Clothing"
            ],
            [
             3029,
             "Clothing"
            ],
            [
             280,
             "Clothing"
            ],
            [
             114,
             "Clothing"
            ],
            [
             125,
             "Clothing"
            ],
            [
             204,
             "Clothing"
            ],
            [
             291,
             "Clothing"
            ],
            [
             276,
             "Clothing"
            ],
            [
             153,
             "Clothing"
            ],
            [
             1254,
             "Clothing"
            ],
            [
             263,
             "Clothing"
            ],
            [
             54,
             "Clothing"
            ],
            [
             984,
             "Clothing"
            ],
            [
             335,
             "Clothing"
            ],
            [
             228,
             "Clothing"
            ],
            [
             356,
             "Clothing"
            ],
            [
             780,
             "Clothing"
            ],
            [
             326,
             "Clothing"
            ]
           ],
           "featureidkey": "properties.NAME_1",
           "geo": "geo",
           "geojson": "https://raw.githubusercontent.com/geohacker/india/master/state/india_telengana.geojson",
           "hovertemplate": "<b>%{hovertext}</b><br><br>Month-Year=Feb-19<br>Category=%{customdata[1]}<br>State=%{location}<br>Amount=%{z}<extra></extra>",
           "hovertext": [
            "Andhra Pradesh",
            "Bihar",
            "Delhi",
            "Goa",
            "Gujarat",
            "Haryana",
            "Himachal Pradesh",
            "Jammu and Kashmir",
            "Karnataka",
            "Kerala ",
            "Madhya Pradesh",
            "Maharashtra",
            "Nagaland",
            "Punjab",
            "Rajasthan",
            "Sikkim",
            "Tamil Nadu",
            "Uttar Pradesh",
            "West Bengal"
           ],
           "locations": [
            "Andhra Pradesh",
            "Bihar",
            "Delhi",
            "Goa",
            "Gujarat",
            "Haryana",
            "Himachal Pradesh",
            "Jammu and Kashmir",
            "Karnataka",
            "Kerala ",
            "Madhya Pradesh",
            "Maharashtra",
            "Nagaland",
            "Punjab",
            "Rajasthan",
            "Sikkim",
            "Tamil Nadu",
            "Uttar Pradesh",
            "West Bengal"
           ],
           "name": "",
           "type": "choropleth",
           "z": {
            "bdata": "AAAAAABAU0AAAAAAAIB7QAAAAAAAqqdAAAAAAACAcUAAAAAAAIBcQAAAAAAAQF9AAAAAAACAaUAAAAAAADByQAAAAAAAQHFAAAAAAAAgY0AAAAAAAJiTQAAAAAAAcHBAAAAAAAAAS0AAAAAAAMCOQAAAAAAA8HRAAAAAAACAbEAAAAAAAEB2QAAAAAAAYIhAAAAAAABgdEA=",
            "dtype": "f8"
           }
          },
          {
           "coloraxis": "coloraxis",
           "customdata": [
            [
             1387,
             "Electronics"
            ],
            [
             846,
             "Electronics"
            ],
            [
             3394,
             "Electronics"
            ],
            [
             889,
             "Electronics"
            ],
            [
             2289,
             "Electronics"
            ],
            [
             231,
             "Electronics"
            ],
            [
             512,
             "Electronics"
            ],
            [
             1824,
             "Electronics"
            ],
            [
             162,
             "Electronics"
            ],
            [
             285,
             "Electronics"
            ],
            [
             774,
             "Electronics"
            ]
           ],
           "featureidkey": "properties.NAME_1",
           "geo": "geo2",
           "geojson": "https://raw.githubusercontent.com/geohacker/india/master/state/india_telengana.geojson",
           "hovertemplate": "<b>%{hovertext}</b><br><br>Month-Year=Feb-19<br>Category=%{customdata[1]}<br>State=%{location}<br>Amount=%{z}<extra></extra>",
           "hovertext": [
            "Andhra Pradesh",
            "Bihar",
            "Delhi",
            "Jammu and Kashmir",
            "Karnataka",
            "Madhya Pradesh",
            "Maharashtra",
            "Punjab",
            "Rajasthan",
            "Uttar Pradesh",
            "West Bengal"
           ],
           "locations": [
            "Andhra Pradesh",
            "Bihar",
            "Delhi",
            "Jammu and Kashmir",
            "Karnataka",
            "Madhya Pradesh",
            "Maharashtra",
            "Punjab",
            "Rajasthan",
            "Uttar Pradesh",
            "West Bengal"
           ],
           "name": "",
           "type": "choropleth",
           "z": {
            "bdata": "AAAAAACslUAAAAAAAHCKQAAAAAAAhKpAAAAAAADIi0AAAAAAAOKhQAAAAAAA4GxAAAAAAAAAgEAAAAAAAICcQAAAAAAAQGRAAAAAAADQcUAAAAAAADCIQA==",
            "dtype": "f8"
           }
          },
          {
           "coloraxis": "coloraxis",
           "customdata": [
            [
             176,
             "Furniture"
            ],
            [
             7501,
             "Furniture"
            ],
            [
             1322,
             "Furniture"
            ],
            [
             389,
             "Furniture"
            ],
            [
             122,
             "Furniture"
            ],
            [
             5208,
             "Furniture"
            ],
            [
             341,
             "Furniture"
            ],
            [
             734,
             "Furniture"
            ],
            [
             326,
             "Furniture"
            ],
            [
             143,
             "Furniture"
            ]
           ],
           "featureidkey": "properties.NAME_1",
           "geo": "geo3",
           "geojson": "https://raw.githubusercontent.com/geohacker/india/master/state/india_telengana.geojson",
           "hovertemplate": "<b>%{hovertext}</b><br><br>Month-Year=Feb-19<br>Category=%{customdata[1]}<br>State=%{location}<br>Amount=%{z}<extra></extra>",
           "hovertext": [
            "Bihar",
            "Delhi",
            "Haryana",
            "Jammu and Kashmir",
            "Kerala ",
            "Madhya Pradesh",
            "Maharashtra",
            "Rajasthan",
            "Tamil Nadu",
            "West Bengal"
           ],
           "locations": [
            "Bihar",
            "Delhi",
            "Haryana",
            "Jammu and Kashmir",
            "Kerala ",
            "Madhya Pradesh",
            "Maharashtra",
            "Rajasthan",
            "Tamil Nadu",
            "West Bengal"
           ],
           "name": "",
           "type": "choropleth",
           "z": {
            "bdata": "AAAAAAAAZkAAAAAAAE29QAAAAAAAqJRAAAAAAABQeEAAAAAAAIBeQAAAAAAAWLRAAAAAAABQdUAAAAAAAPCGQAAAAAAAYHRAAAAAAADgYUA=",
            "dtype": "f8"
           }
          }
         ],
         "name": "Feb-19"
        },
        {
         "data": [
          {
           "coloraxis": "coloraxis",
           "customdata": [
            [
             301,
             "Clothing"
            ],
            [
             1269,
             "Clothing"
            ],
            [
             114,
             "Clothing"
            ],
            [
             2254,
             "Clothing"
            ],
            [
             59,
             "Clothing"
            ],
            [
             3439,
             "Clothing"
            ],
            [
             2359,
             "Clothing"
            ],
            [
             327,
             "Clothing"
            ],
            [
             705,
             "Clothing"
            ],
            [
             93,
             "Clothing"
            ],
            [
             1362,
             "Clothing"
            ],
            [
             1184,
             "Clothing"
            ]
           ],
           "featureidkey": "properties.NAME_1",
           "geo": "geo",
           "geojson": "https://raw.githubusercontent.com/geohacker/india/master/state/india_telengana.geojson",
           "hovertemplate": "<b>%{hovertext}</b><br><br>Month-Year=Jan-19<br>Category=%{customdata[1]}<br>State=%{location}<br>Amount=%{z}<extra></extra>",
           "hovertext": [
            "Andhra Pradesh",
            "Delhi",
            "Goa",
            "Gujarat",
            "Himachal Pradesh",
            "Madhya Pradesh",
            "Maharashtra",
            "Nagaland",
            "Punjab",
            "Rajasthan",
            "Uttar Pradesh",
            "West Bengal"
           ],
           "locations": [
            "Andhra Pradesh",
            "Delhi",
            "Goa",
            "Gujarat",
            "Himachal Pradesh",
            "Madhya Pradesh",
            "Maharashtra",
            "Nagaland",
            "Punjab",
            "Rajasthan",
            "Uttar Pradesh",
            "West Bengal"
           ],
           "name": "",
           "type": "choropleth",
           "z": {
            "bdata": "AAAAAADQckAAAAAAANSTQAAAAAAAgFxAAAAAAACcoUAAAAAAAIBNQAAAAAAA3qpAAAAAAABuokAAAAAAAHB0QAAAAAAACIZAAAAAAABAV0AAAAAAAEiVQAAAAAAAgJJA",
            "dtype": "f8"
           }
          },
          {
           "coloraxis": "coloraxis",
           "customdata": [
            [
             1840,
             "Electronics"
            ],
            [
             122,
             "Electronics"
            ],
            [
             867,
             "Electronics"
            ],
            [
             3738,
             "Electronics"
            ],
            [
             6125,
             "Electronics"
            ],
            [
             5687,
             "Electronics"
            ],
            [
             1162,
             "Electronics"
            ],
            [
             2030,
             "Electronics"
            ],
            [
             666,
             "Electronics"
            ],
            [
             4141,
             "Electronics"
            ],
            [
             338,
             "Electronics"
            ]
           ],
           "featureidkey": "properties.NAME_1",
           "geo": "geo2",
           "geojson": "https://raw.githubusercontent.com/geohacker/india/master/state/india_telengana.geojson",
           "hovertemplate": "<b>%{hovertext}</b><br><br>Month-Year=Jan-19<br>Category=%{customdata[1]}<br>State=%{location}<br>Amount=%{z}<extra></extra>",
           "hovertext": [
            "Andhra Pradesh",
            "Bihar",
            "Delhi",
            "Gujarat",
            "Madhya Pradesh",
            "Maharashtra",
            "Punjab",
            "Rajasthan",
            "Sikkim",
            "Uttar Pradesh",
            "West Bengal"
           ],
           "locations": [
            "Andhra Pradesh",
            "Bihar",
            "Delhi",
            "Gujarat",
            "Madhya Pradesh",
            "Maharashtra",
            "Punjab",
            "Rajasthan",
            "Sikkim",
            "Uttar Pradesh",
            "West Bengal"
           ],
           "name": "",
           "type": "choropleth",
           "z": {
            "bdata": "AAAAAADAnEAAAAAAAIBeQAAAAAAAGItAAAAAAAA0rUAAAAAAAO23QAAAAAAAN7ZAAAAAAAAokkAAAAAAALifQAAAAAAA0IRAAAAAAAAtsEAAAAAAACB1QA==",
            "dtype": "f8"
           }
          },
          {
           "coloraxis": "coloraxis",
           "customdata": [
            [
             1389,
             "Furniture"
            ],
            [
             25,
             "Furniture"
            ],
            [
             999,
             "Furniture"
            ],
            [
             3007,
             "Furniture"
            ],
            [
             1101,
             "Furniture"
            ],
            [
             61,
             "Furniture"
            ],
            [
             1678,
             "Furniture"
            ],
            [
             3820,
             "Furniture"
            ],
            [
             4491,
             "Furniture"
            ],
            [
             1819,
             "Furniture"
            ],
            [
             595,
             "Furniture"
            ],
            [
             1411,
             "Furniture"
            ],
            [
             119,
             "Furniture"
            ],
            [
             742,
             "Furniture"
            ]
           ],
           "featureidkey": "properties.NAME_1",
           "geo": "geo3",
           "geojson": "https://raw.githubusercontent.com/geohacker/india/master/state/india_telengana.geojson",
           "hovertemplate": "<b>%{hovertext}</b><br><br>Month-Year=Jan-19<br>Category=%{customdata[1]}<br>State=%{location}<br>Amount=%{z}<extra></extra>",
           "hovertext": [
            "Andhra Pradesh",
            "Bihar",
            "Delhi",
            "Gujarat",
            "Haryana",
            "Himachal Pradesh",
            "Kerala ",
            "Madhya Pradesh",
            "Maharashtra",
            "Nagaland",
            "Punjab",
            "Rajasthan",
            "Uttar Pradesh",
            "West Bengal"
           ],
           "locations": [
            "Andhra Pradesh",
            "Bihar",
            "Delhi",
            "Gujarat",
            "Haryana",
            "Himachal Pradesh",
            "Kerala ",
            "Madhya Pradesh",
            "Maharashtra",
            "Nagaland",
            "Punjab",
            "Rajasthan",
            "Uttar Pradesh",
            "West Bengal"
           ],
           "name": "",
           "type": "choropleth",
           "z": {
            "bdata": "AAAAAAC0lUAAAAAAAAA5QAAAAAAAOI9AAAAAAAB+p0AAAAAAADSRQAAAAAAAgE5AAAAAAAA4mkAAAAAAANitQAAAAAAAi7FAAAAAAABsnEAAAAAAAJiCQAAAAAAADJZAAAAAAADAXUAAAAAAADCHQA==",
            "dtype": "f8"
           }
          }
         ],
         "name": "Jan-19"
        },
        {
         "data": [
          {
           "coloraxis": "coloraxis",
           "customdata": [
            [
             246,
             "Clothing"
            ],
            [
             1168,
             "Clothing"
            ],
            [
             360,
             "Clothing"
            ],
            [
             154,
             "Clothing"
            ],
            [
             88,
             "Clothing"
            ],
            [
             385,
             "Clothing"
            ],
            [
             1456,
             "Clothing"
            ],
            [
             842,
             "Clothing"
            ],
            [
             278,
             "Clothing"
            ],
            [
             3992,
             "Clothing"
            ],
            [
             5666,
             "Clothing"
            ],
            [
             662,
             "Clothing"
            ],
            [
             1957,
             "Clothing"
            ],
            [
             995,
             "Clothing"
            ],
            [
             489,
             "Clothing"
            ],
            [
             833,
             "Clothing"
            ],
            [
             95,
             "Clothing"
            ],
            [
             1752,
             "Clothing"
            ]
           ],
           "featureidkey": "properties.NAME_1",
           "geo": "geo",
           "geojson": "https://raw.githubusercontent.com/geohacker/india/master/state/india_telengana.geojson",
           "hovertemplate": "<b>%{hovertext}</b><br><br>Month-Year=Mar-19<br>Category=%{customdata[1]}<br>State=%{location}<br>Amount=%{z}<extra></extra>",
           "hovertext": [
            "Andhra Pradesh",
            "Bihar",
            "Goa",
            "Gujarat",
            "Haryana",
            "Himachal Pradesh",
            "Jammu and Kashmir",
            "Karnataka",
            "Kerala ",
            "Madhya Pradesh",
            "Maharashtra",
            "Nagaland",
            "Punjab",
            "Rajasthan",
            "Sikkim",
            "Tamil Nadu",
            "Uttar Pradesh",
            "West Bengal"
           ],
           "locations": [
            "Andhra Pradesh",
            "Bihar",
            "Goa",
            "Gujarat",
            "Haryana",
            "Himachal Pradesh",
            "Jammu and Kashmir",
            "Karnataka",
            "Kerala ",
            "Madhya Pradesh",
            "Maharashtra",
            "Nagaland",
            "Punjab",
            "Rajasthan",
            "Sikkim",
            "Tamil Nadu",
            "Uttar Pradesh",
            "West Bengal"
           ],
           "name": "",
           "type": "choropleth",
           "z": {
            "bdata": "AAAAAADAbkAAAAAAAECSQAAAAAAAgHZAAAAAAABAY0AAAAAAAABWQAAAAAAAEHhAAAAAAADAlkAAAAAAAFCKQAAAAAAAYHFAAAAAAAAwr0AAAAAAACK2QAAAAAAAsIRAAAAAAACUnkAAAAAAABiPQAAAAAAAkH5AAAAAAAAIikAAAAAAAMBXQAAAAAAAYJtA",
            "dtype": "f8"
           }
          },
          {
           "coloraxis": "coloraxis",
           "customdata": [
            [
             799,
             "Electronics"
            ],
            [
             762,
             "Electronics"
            ],
            [
             311,
             "Electronics"
            ],
            [
             175,
             "Electronics"
            ],
            [
             2108,
             "Electronics"
            ],
            [
             945,
             "Electronics"
            ],
            [
             5251,
             "Electronics"
            ],
            [
             5348,
             "Electronics"
            ],
            [
             241,
             "Electronics"
            ],
            [
             1228,
             "Electronics"
            ],
            [
             169,
             "Electronics"
            ],
            [
             3523,
             "Electronics"
            ]
           ],
           "featureidkey": "properties.NAME_1",
           "geo": "geo2",
           "geojson": "https://raw.githubusercontent.com/geohacker/india/master/state/india_telengana.geojson",
           "hovertemplate": "<b>%{hovertext}</b><br><br>Month-Year=Mar-19<br>Category=%{customdata[1]}<br>State=%{location}<br>Amount=%{z}<extra></extra>",
           "hovertext": [
            "Bihar",
            "Haryana",
            "Himachal Pradesh",
            "Jammu and Kashmir",
            "Karnataka",
            "Kerala ",
            "Madhya Pradesh",
            "Maharashtra",
            "Nagaland",
            "Rajasthan",
            "Tamil Nadu",
            "West Bengal"
           ],
           "locations": [
            "Bihar",
            "Haryana",
            "Himachal Pradesh",
            "Jammu and Kashmir",
            "Karnataka",
            "Kerala ",
            "Madhya Pradesh",
            "Maharashtra",
            "Nagaland",
            "Rajasthan",
            "Tamil Nadu",
            "West Bengal"
           ],
           "name": "",
           "type": "choropleth",
           "z": {
            "bdata": "AAAAAAD4iEAAAAAAANCHQAAAAAAAcHNAAAAAAADgZUAAAAAAAHigQAAAAAAAiI1AAAAAAACDtEAAAAAAAOS0QAAAAAAAIG5AAAAAAAAwk0AAAAAAACBlQAAAAAAAhqtA",
            "dtype": "f8"
           }
          },
          {
           "coloraxis": "coloraxis",
           "customdata": [
            [
             213,
             "Furniture"
            ],
            [
             1457,
             "Furniture"
            ],
            [
             767,
             "Furniture"
            ],
            [
             659,
             "Furniture"
            ],
            [
             8843,
             "Furniture"
            ],
            [
             2714,
             "Furniture"
            ],
            [
             302,
             "Furniture"
            ],
            [
             359,
             "Furniture"
            ],
            [
             1345,
             "Furniture"
            ]
           ],
           "featureidkey": "properties.NAME_1",
           "geo": "geo3",
           "geojson": "https://raw.githubusercontent.com/geohacker/india/master/state/india_telengana.geojson",
           "hovertemplate": "<b>%{hovertext}</b><br><br>Month-Year=Mar-19<br>Category=%{customdata[1]}<br>State=%{location}<br>Amount=%{z}<extra></extra>",
           "hovertext": [
            "Bihar",
            "Jammu and Kashmir",
            "Karnataka",
            "Kerala ",
            "Madhya Pradesh",
            "Maharashtra",
            "Nagaland",
            "Tamil Nadu",
            "West Bengal"
           ],
           "locations": [
            "Bihar",
            "Jammu and Kashmir",
            "Karnataka",
            "Kerala ",
            "Madhya Pradesh",
            "Maharashtra",
            "Nagaland",
            "Tamil Nadu",
            "West Bengal"
           ],
           "name": "",
           "type": "choropleth",
           "z": {
            "bdata": "AAAAAACgakAAAAAAAMSWQAAAAAAA+IdAAAAAAACYhEAAAAAAgEXBQAAAAAAANKVAAAAAAADgckAAAAAAAHB2QAAAAAAABJVA",
            "dtype": "f8"
           }
          }
         ],
         "name": "Mar-19"
        },
        {
         "data": [
          {
           "coloraxis": "coloraxis",
           "customdata": [
            [
             27,
             "Clothing"
            ],
            [
             20,
             "Clothing"
            ],
            [
             431,
             "Clothing"
            ],
            [
             285,
             "Clothing"
            ],
            [
             423,
             "Clothing"
            ],
            [
             26,
             "Clothing"
            ],
            [
             245,
             "Clothing"
            ],
            [
             42,
             "Clothing"
            ],
            [
             2397,
             "Clothing"
            ],
            [
             4372,
             "Clothing"
            ],
            [
             860,
             "Clothing"
            ],
            [
             215,
             "Clothing"
            ],
            [
             27,
             "Clothing"
            ],
            [
             148,
             "Clothing"
            ]
           ],
           "featureidkey": "properties.NAME_1",
           "geo": "geo",
           "geojson": "https://raw.githubusercontent.com/geohacker/india/master/state/india_telengana.geojson",
           "hovertemplate": "<b>%{hovertext}</b><br><br>Month-Year=May-18<br>Category=%{customdata[1]}<br>State=%{location}<br>Amount=%{z}<extra></extra>",
           "hovertext": [
            "Andhra Pradesh",
            "Bihar",
            "Goa",
            "Gujarat",
            "Haryana",
            "Jammu and Kashmir",
            "Karnataka",
            "Kerala ",
            "Madhya Pradesh",
            "Maharashtra",
            "Nagaland",
            "Punjab",
            "Rajasthan",
            "West Bengal"
           ],
           "locations": [
            "Andhra Pradesh",
            "Bihar",
            "Goa",
            "Gujarat",
            "Haryana",
            "Jammu and Kashmir",
            "Karnataka",
            "Kerala ",
            "Madhya Pradesh",
            "Maharashtra",
            "Nagaland",
            "Punjab",
            "Rajasthan",
            "West Bengal"
           ],
           "name": "",
           "type": "choropleth",
           "z": {
            "bdata": "AAAAAAAAO0AAAAAAAAA0QAAAAAAA8HpAAAAAAADQcUAAAAAAAHB6QAAAAAAAADpAAAAAAACgbkAAAAAAAABFQAAAAAAAuqJAAAAAAAAUsUAAAAAAAOCKQAAAAAAA4GpAAAAAAAAAO0AAAAAAAIBiQA==",
            "dtype": "f8"
           }
          },
          {
           "coloraxis": "coloraxis",
           "customdata": [
            [
             1487,
             "Electronics"
            ],
            [
             174,
             "Electronics"
            ],
            [
             1030,
             "Electronics"
            ],
            [
             166,
             "Electronics"
            ],
            [
             2236,
             "Electronics"
            ],
            [
             3601,
             "Electronics"
            ],
            [
             3079,
             "Electronics"
            ],
            [
             1034,
             "Electronics"
            ]
           ],
           "featureidkey": "properties.NAME_1",
           "geo": "geo2",
           "geojson": "https://raw.githubusercontent.com/geohacker/india/master/state/india_telengana.geojson",
           "hovertemplate": "<b>%{hovertext}</b><br><br>Month-Year=May-18<br>Category=%{customdata[1]}<br>State=%{location}<br>Amount=%{z}<extra></extra>",
           "hovertext": [
            "Bihar",
            "Goa",
            "Haryana",
            "Kerala ",
            "Madhya Pradesh",
            "Maharashtra",
            "Nagaland",
            "Punjab"
           ],
           "locations": [
            "Bihar",
            "Goa",
            "Haryana",
            "Kerala ",
            "Madhya Pradesh",
            "Maharashtra",
            "Nagaland",
            "Punjab"
           ],
           "name": "",
           "type": "choropleth",
           "z": {
            "bdata": "AAAAAAA8l0AAAAAAAMBlQAAAAAAAGJBAAAAAAADAZEAAAAAAAHihQAAAAAAAIqxAAAAAAAAOqEAAAAAAACiQQA==",
            "dtype": "f8"
           }
          },
          {
           "coloraxis": "coloraxis",
           "customdata": [
            [
             83,
             "Furniture"
            ],
            [
             656,
             "Furniture"
            ],
            [
             516,
             "Furniture"
            ],
            [
             123,
             "Furniture"
            ],
            [
             482,
             "Furniture"
            ],
            [
             1795,
             "Furniture"
            ],
            [
             628,
             "Furniture"
            ],
            [
             1327,
             "Furniture"
            ],
            [
             610,
             "Furniture"
            ]
           ],
           "featureidkey": "properties.NAME_1",
           "geo": "geo3",
           "geojson": "https://raw.githubusercontent.com/geohacker/india/master/state/india_telengana.geojson",
           "hovertemplate": "<b>%{hovertext}</b><br><br>Month-Year=May-18<br>Category=%{customdata[1]}<br>State=%{location}<br>Amount=%{z}<extra></extra>",
           "hovertext": [
            "Bihar",
            "Goa",
            "Haryana",
            "Himachal Pradesh",
            "Jammu and Kashmir",
            "Madhya Pradesh",
            "Maharashtra",
            "Nagaland",
            "Sikkim"
           ],
           "locations": [
            "Bihar",
            "Goa",
            "Haryana",
            "Himachal Pradesh",
            "Jammu and Kashmir",
            "Madhya Pradesh",
            "Maharashtra",
            "Nagaland",
            "Sikkim"
           ],
           "name": "",
           "type": "choropleth",
           "z": {
            "bdata": "AAAAAADAVEAAAAAAAICEQAAAAAAAIIBAAAAAAADAXkAAAAAAACB+QAAAAAAADJxAAAAAAACgg0AAAAAAALyUQAAAAAAAEINA",
            "dtype": "f8"
           }
          }
         ],
         "name": "May-18"
        },
        {
         "data": [
          {
           "coloraxis": "coloraxis",
           "customdata": [
            [
             1649,
             "Clothing"
            ],
            [
             201,
             "Clothing"
            ],
            [
             964,
             "Clothing"
            ],
            [
             1997,
             "Clothing"
            ],
            [
             67,
             "Clothing"
            ],
            [
             403,
             "Clothing"
            ],
            [
             2062,
             "Clothing"
            ],
            [
             3629,
             "Clothing"
            ],
            [
             833,
             "Clothing"
            ],
            [
             497,
             "Clothing"
            ],
            [
             491,
             "Clothing"
            ],
            [
             434,
             "Clothing"
            ],
            [
             112,
             "Clothing"
            ],
            [
             2931,
             "Clothing"
            ]
           ],
           "featureidkey": "properties.NAME_1",
           "geo": "geo",
           "geojson": "https://raw.githubusercontent.com/geohacker/india/master/state/india_telengana.geojson",
           "hovertemplate": "<b>%{hovertext}</b><br><br>Month-Year=Nov-18<br>Category=%{customdata[1]}<br>State=%{location}<br>Amount=%{z}<extra></extra>",
           "hovertext": [
            "Andhra Pradesh",
            "Bihar",
            "Goa",
            "Gujarat",
            "Himachal Pradesh",
            "Kerala ",
            "Madhya Pradesh",
            "Maharashtra",
            "Nagaland",
            "Punjab",
            "Rajasthan",
            "Sikkim",
            "Tamil Nadu",
            "Uttar Pradesh"
           ],
           "locations": [
            "Andhra Pradesh",
            "Bihar",
            "Goa",
            "Gujarat",
            "Himachal Pradesh",
            "Kerala ",
            "Madhya Pradesh",
            "Maharashtra",
            "Nagaland",
            "Punjab",
            "Rajasthan",
            "Sikkim",
            "Tamil Nadu",
            "Uttar Pradesh"
           ],
           "name": "",
           "type": "choropleth",
           "z": {
            "bdata": "AAAAAADEmUAAAAAAACBpQAAAAAAAII5AAAAAAAA0n0AAAAAAAMBQQAAAAAAAMHlAAAAAAAAcoEAAAAAAAFqsQAAAAAAACIpAAAAAAAAQf0AAAAAAALB+QAAAAAAAIHtAAAAAAAAAXEAAAAAAAOamQA==",
            "dtype": "f8"
           }
          },
          {
           "coloraxis": "coloraxis",
           "customdata": [
            [
             320,
             "Electronics"
            ],
            [
             1661,
             "Electronics"
            ],
            [
             579,
             "Electronics"
            ],
            [
             643,
             "Electronics"
            ],
            [
             648,
             "Electronics"
            ],
            [
             1031,
             "Electronics"
            ],
            [
             6099,
             "Electronics"
            ],
            [
             2965,
             "Electronics"
            ],
            [
             300,
             "Electronics"
            ],
            [
             502,
             "Electronics"
            ],
            [
             336,
             "Electronics"
            ],
            [
             1567,
             "Electronics"
            ]
           ],
           "featureidkey": "properties.NAME_1",
           "geo": "geo2",
           "geojson": "https://raw.githubusercontent.com/geohacker/india/master/state/india_telengana.geojson",
           "hovertemplate": "<b>%{hovertext}</b><br><br>Month-Year=Nov-18<br>Category=%{customdata[1]}<br>State=%{location}<br>Amount=%{z}<extra></extra>",
           "hovertext": [
            "Andhra Pradesh",
            "Goa",
            "Gujarat",
            "Haryana",
            "Himachal Pradesh",
            "Kerala ",
            "Madhya Pradesh",
            "Maharashtra",
            "Nagaland",
            "Rajasthan",
            "Sikkim",
            "Uttar Pradesh"
           ],
           "locations": [
            "Andhra Pradesh",
            "Goa",
            "Gujarat",
            "Haryana",
            "Himachal Pradesh",
            "Kerala ",
            "Madhya Pradesh",
            "Maharashtra",
            "Nagaland",
            "Rajasthan",
            "Sikkim",
            "Uttar Pradesh"
           ],
           "name": "",
           "type": "choropleth",
           "z": {
            "bdata": "AAAAAAAAdEAAAAAAAPSZQAAAAAAAGIJAAAAAAAAYhEAAAAAAAECEQAAAAAAAHJBAAAAAAADTt0AAAAAAACqnQAAAAAAAwHJAAAAAAABgf0AAAAAAAAB1QAAAAAAAfJhA",
            "dtype": "f8"
           }
          },
          {
           "coloraxis": "coloraxis",
           "customdata": [
            [
             926,
             "Furniture"
            ],
            [
             2061,
             "Furniture"
            ],
            [
             1118,
             "Furniture"
            ],
            [
             2584,
             "Furniture"
            ],
            [
             264,
             "Furniture"
            ],
            [
             147,
             "Furniture"
            ],
            [
             3424,
             "Furniture"
            ],
            [
             2190,
             "Furniture"
            ],
            [
             336,
             "Furniture"
            ],
            [
             2115,
             "Furniture"
            ]
           ],
           "featureidkey": "properties.NAME_1",
           "geo": "geo3",
           "geojson": "https://raw.githubusercontent.com/geohacker/india/master/state/india_telengana.geojson",
           "hovertemplate": "<b>%{hovertext}</b><br><br>Month-Year=Nov-18<br>Category=%{customdata[1]}<br>State=%{location}<br>Amount=%{z}<extra></extra>",
           "hovertext": [
            "Andhra Pradesh",
            "Bihar",
            "Goa",
            "Gujarat",
            "Haryana",
            "Himachal Pradesh",
            "Madhya Pradesh",
            "Maharashtra",
            "Nagaland",
            "Uttar Pradesh"
           ],
           "locations": [
            "Andhra Pradesh",
            "Bihar",
            "Goa",
            "Gujarat",
            "Haryana",
            "Himachal Pradesh",
            "Madhya Pradesh",
            "Maharashtra",
            "Nagaland",
            "Uttar Pradesh"
           ],
           "name": "",
           "type": "choropleth",
           "z": {
            "bdata": "AAAAAADwjEAAAAAAABqgQAAAAAAAeJFAAAAAAAAwpEAAAAAAAIBwQAAAAAAAYGJAAAAAAADAqkAAAAAAAByhQAAAAAAAAHVAAAAAAACGoEA=",
            "dtype": "f8"
           }
          }
         ],
         "name": "Nov-18"
        },
        {
         "data": [
          {
           "coloraxis": "coloraxis",
           "customdata": [
            [
             932,
             "Clothing"
            ],
            [
             332,
             "Clothing"
            ],
            [
             556,
             "Clothing"
            ],
            [
             345,
             "Clothing"
            ],
            [
             166,
             "Clothing"
            ],
            [
             452,
             "Clothing"
            ],
            [
             207,
             "Clothing"
            ],
            [
             3600,
             "Clothing"
            ],
            [
             613,
             "Clothing"
            ],
            [
             35,
             "Clothing"
            ],
            [
             2214,
             "Clothing"
            ],
            [
             693,
             "Clothing"
            ],
            [
             16,
             "Clothing"
            ],
            [
             1327,
             "Clothing"
            ]
           ],
           "featureidkey": "properties.NAME_1",
           "geo": "geo",
           "geojson": "https://raw.githubusercontent.com/geohacker/india/master/state/india_telengana.geojson",
           "hovertemplate": "<b>%{hovertext}</b><br><br>Month-Year=Oct-18<br>Category=%{customdata[1]}<br>State=%{location}<br>Amount=%{z}<extra></extra>",
           "hovertext": [
            "Andhra Pradesh",
            "Bihar",
            "Gujarat",
            "Haryana",
            "Himachal Pradesh",
            "Karnataka",
            "Kerala ",
            "Madhya Pradesh",
            "Maharashtra",
            "Nagaland",
            "Punjab",
            "Sikkim",
            "Uttar Pradesh",
            "West Bengal"
           ],
           "locations": [
            "Andhra Pradesh",
            "Bihar",
            "Gujarat",
            "Haryana",
            "Himachal Pradesh",
            "Karnataka",
            "Kerala ",
            "Madhya Pradesh",
            "Maharashtra",
            "Nagaland",
            "Punjab",
            "Sikkim",
            "Uttar Pradesh",
            "West Bengal"
           ],
           "name": "",
           "type": "choropleth",
           "z": {
            "bdata": "AAAAAAAgjUAAAAAAAMB0QAAAAAAAYIFAAAAAAACQdUAAAAAAAMBkQAAAAAAAQHxAAAAAAADgaUAAAAAAACCsQAAAAAAAKINAAAAAAACAQUAAAAAAAEyhQAAAAAAAqIVAAAAAAAAAMEAAAAAAALyUQA==",
            "dtype": "f8"
           }
          },
          {
           "coloraxis": "coloraxis",
           "customdata": [
            [
             448,
             "Electronics"
            ],
            [
             146,
             "Electronics"
            ],
            [
             3110,
             "Electronics"
            ],
            [
             321,
             "Electronics"
            ],
            [
             3309,
             "Electronics"
            ],
            [
             5595,
             "Electronics"
            ],
            [
             307,
             "Electronics"
            ],
            [
             125,
             "Electronics"
            ]
           ],
           "featureidkey": "properties.NAME_1",
           "geo": "geo2",
           "geojson": "https://raw.githubusercontent.com/geohacker/india/master/state/india_telengana.geojson",
           "hovertemplate": "<b>%{hovertext}</b><br><br>Month-Year=Oct-18<br>Category=%{customdata[1]}<br>State=%{location}<br>Amount=%{z}<extra></extra>",
           "hovertext": [
            "Andhra Pradesh",
            "Bihar",
            "Himachal Pradesh",
            "Karnataka",
            "Madhya Pradesh",
            "Maharashtra",
            "Punjab",
            "West Bengal"
           ],
           "locations": [
            "Andhra Pradesh",
            "Bihar",
            "Himachal Pradesh",
            "Karnataka",
            "Madhya Pradesh",
            "Maharashtra",
            "Punjab",
            "West Bengal"
           ],
           "name": "",
           "type": "choropleth",
           "z": {
            "bdata": "AAAAAAAAfEAAAAAAAEBiQAAAAAAATKhAAAAAAAAQdEAAAAAAANqpQAAAAAAA27VAAAAAAAAwc0AAAAAAAEBfQA==",
            "dtype": "f8"
           }
          },
          {
           "coloraxis": "coloraxis",
           "customdata": [
            [
             2830,
             "Furniture"
            ],
            [
             45,
             "Furniture"
            ],
            [
             544,
             "Furniture"
            ],
            [
             1494,
             "Furniture"
            ],
            [
             1734,
             "Furniture"
            ],
            [
             119,
             "Furniture"
            ]
           ],
           "featureidkey": "properties.NAME_1",
           "geo": "geo3",
           "geojson": "https://raw.githubusercontent.com/geohacker/india/master/state/india_telengana.geojson",
           "hovertemplate": "<b>%{hovertext}</b><br><br>Month-Year=Oct-18<br>Category=%{customdata[1]}<br>State=%{location}<br>Amount=%{z}<extra></extra>",
           "hovertext": [
            "Andhra Pradesh",
            "Gujarat",
            "Karnataka",
            "Madhya Pradesh",
            "Maharashtra",
            "Rajasthan"
           ],
           "locations": [
            "Andhra Pradesh",
            "Gujarat",
            "Karnataka",
            "Madhya Pradesh",
            "Maharashtra",
            "Rajasthan"
           ],
           "name": "",
           "type": "choropleth",
           "z": {
            "bdata": "AAAAAAAcpkAAAAAAAIBGQAAAAAAAAIFAAAAAAABYl0AAAAAAABibQAAAAAAAwF1A",
            "dtype": "f8"
           }
          }
         ],
         "name": "Oct-18"
        },
        {
         "data": [
          {
           "coloraxis": "coloraxis",
           "customdata": [
            [
             583,
             "Clothing"
            ],
            [
             11,
             "Clothing"
            ],
            [
             340,
             "Clothing"
            ],
            [
             8,
             "Clothing"
            ],
            [
             2221,
             "Clothing"
            ],
            [
             4751,
             "Clothing"
            ],
            [
             739,
             "Clothing"
            ],
            [
             785,
             "Clothing"
            ],
            [
             1141,
             "Clothing"
            ],
            [
             369,
             "Clothing"
            ],
            [
             20,
             "Clothing"
            ],
            [
             768,
             "Clothing"
            ],
            [
             86,
             "Clothing"
            ]
           ],
           "featureidkey": "properties.NAME_1",
           "geo": "geo",
           "geojson": "https://raw.githubusercontent.com/geohacker/india/master/state/india_telengana.geojson",
           "hovertemplate": "<b>%{hovertext}</b><br><br>Month-Year=Aug-18<br>Category=%{customdata[1]}<br>State=%{location}<br>Amount=%{z}<extra></extra>",
           "hovertext": [
            "Bihar",
            "Goa",
            "Gujarat",
            "Himachal Pradesh",
            "Kerala ",
            "Madhya Pradesh",
            "Maharashtra",
            "Nagaland",
            "Punjab",
            "Rajasthan",
            "Sikkim",
            "Uttar Pradesh",
            "West Bengal"
           ],
           "locations": [
            "Bihar",
            "Goa",
            "Gujarat",
            "Himachal Pradesh",
            "Kerala ",
            "Madhya Pradesh",
            "Maharashtra",
            "Nagaland",
            "Punjab",
            "Rajasthan",
            "Sikkim",
            "Uttar Pradesh",
            "West Bengal"
           ],
           "name": "",
           "type": "choropleth",
           "z": {
            "bdata": "AAAAAAA4gkAAAAAAAAAmQAAAAAAAQHVAAAAAAAAAIEAAAAAAAFqhQAAAAAAAj7JAAAAAAAAYh0AAAAAAAIiIQAAAAAAA1JFAAAAAAAAQd0AAAAAAAAA0QAAAAAAAAIhAAAAAAACAVUA=",
            "dtype": "f8"
           }
          },
          {
           "coloraxis": "coloraxis",
           "customdata": [
            [
             373,
             "Electronics"
            ],
            [
             262,
             "Electronics"
            ],
            [
             322,
             "Electronics"
            ],
            [
             3294,
             "Electronics"
            ],
            [
             3811,
             "Electronics"
            ],
            [
             148,
             "Electronics"
            ],
            [
             271,
             "Electronics"
            ],
            [
             685,
             "Electronics"
            ],
            [
             373,
             "Electronics"
            ]
           ],
           "featureidkey": "properties.NAME_1",
           "geo": "geo2",
           "geojson": "https://raw.githubusercontent.com/geohacker/india/master/state/india_telengana.geojson",
           "hovertemplate": "<b>%{hovertext}</b><br><br>Month-Year=Aug-18<br>Category=%{customdata[1]}<br>State=%{location}<br>Amount=%{z}<extra></extra>",
           "hovertext": [
            "Andhra Pradesh",
            "Bihar",
            "Goa",
            "Madhya Pradesh",
            "Maharashtra",
            "Punjab",
            "Rajasthan",
            "Uttar Pradesh",
            "West Bengal"
           ],
           "locations": [
            "Andhra Pradesh",
            "Bihar",
            "Goa",
            "Madhya Pradesh",
            "Maharashtra",
            "Punjab",
            "Rajasthan",
            "Uttar Pradesh",
            "West Bengal"
           ],
           "name": "",
           "type": "choropleth",
           "z": {
            "bdata": "AAAAAABQd0AAAAAAAGBwQAAAAAAAIHRAAAAAAAC8qUAAAAAAAMatQAAAAAAAgGJAAAAAAADwcEAAAAAAAGiFQAAAAAAAUHdA",
            "dtype": "f8"
           }
          },
          {
           "coloraxis": "coloraxis",
           "customdata": [
            [
             860,
             "Furniture"
            ],
            [
             133,
             "Furniture"
            ],
            [
             984,
             "Furniture"
            ],
            [
             3271,
             "Furniture"
            ],
            [
             4173,
             "Furniture"
            ],
            [
             70,
             "Furniture"
            ],
            [
             47,
             "Furniture"
            ]
           ],
           "featureidkey": "properties.NAME_1",
           "geo": "geo3",
           "geojson": "https://raw.githubusercontent.com/geohacker/india/master/state/india_telengana.geojson",
           "hovertemplate": "<b>%{hovertext}</b><br><br>Month-Year=Aug-18<br>Category=%{customdata[1]}<br>State=%{location}<br>Amount=%{z}<extra></extra>",
           "hovertext": [
            "Gujarat",
            "Haryana",
            "Kerala ",
            "Madhya Pradesh",
            "Maharashtra",
            "Punjab",
            "Uttar Pradesh"
           ],
           "locations": [
            "Gujarat",
            "Haryana",
            "Kerala ",
            "Madhya Pradesh",
            "Maharashtra",
            "Punjab",
            "Uttar Pradesh"
           ],
           "name": "",
           "type": "choropleth",
           "z": {
            "bdata": "AAAAAADgikAAAAAAAKBgQAAAAAAAwI5AAAAAAACOqUAAAAAAAE2wQAAAAAAAgFFAAAAAAACAR0A=",
            "dtype": "f8"
           }
          }
         ],
         "name": "Aug-18"
        },
        {
         "data": [
          {
           "coloraxis": "coloraxis",
           "customdata": [
            [
             927,
             "Clothing"
            ],
            [
             50,
             "Clothing"
            ],
            [
             596,
             "Clothing"
            ],
            [
             1643,
             "Clothing"
            ],
            [
             1102,
             "Clothing"
            ],
            [
             2364,
             "Clothing"
            ],
            [
             2972,
             "Clothing"
            ],
            [
             15,
             "Clothing"
            ],
            [
             12,
             "Clothing"
            ],
            [
             178,
             "Clothing"
            ],
            [
             858,
             "Clothing"
            ]
           ],
           "featureidkey": "properties.NAME_1",
           "geo": "geo",
           "geojson": "https://raw.githubusercontent.com/geohacker/india/master/state/india_telengana.geojson",
           "hovertemplate": "<b>%{hovertext}</b><br><br>Month-Year=Sep-18<br>Category=%{customdata[1]}<br>State=%{location}<br>Amount=%{z}<extra></extra>",
           "hovertext": [
            "Gujarat",
            "Haryana",
            "Jammu and Kashmir",
            "Karnataka",
            "Kerala ",
            "Madhya Pradesh",
            "Maharashtra",
            "Rajasthan",
            "Tamil Nadu",
            "Uttar Pradesh",
            "West Bengal"
           ],
           "locations": [
            "Gujarat",
            "Haryana",
            "Jammu and Kashmir",
            "Karnataka",
            "Kerala ",
            "Madhya Pradesh",
            "Maharashtra",
            "Rajasthan",
            "Tamil Nadu",
            "Uttar Pradesh",
            "West Bengal"
           ],
           "name": "",
           "type": "choropleth",
           "z": {
            "bdata": "AAAAAAD4jEAAAAAAAABJQAAAAAAAoIJAAAAAAACsmUAAAAAAADiRQAAAAAAAeKJAAAAAAAA4p0AAAAAAAAAuQAAAAAAAAChAAAAAAABAZkAAAAAAANCKQA==",
            "dtype": "f8"
           }
          },
          {
           "coloraxis": "coloraxis",
           "customdata": [
            [
             137,
             "Electronics"
            ],
            [
             1225,
             "Electronics"
            ],
            [
             584,
             "Electronics"
            ],
            [
             176,
             "Electronics"
            ],
            [
             229,
             "Electronics"
            ],
            [
             209,
             "Electronics"
            ],
            [
             2113,
             "Electronics"
            ],
            [
             2258,
             "Electronics"
            ],
            [
             276,
             "Electronics"
            ]
           ],
           "featureidkey": "properties.NAME_1",
           "geo": "geo2",
           "geojson": "https://raw.githubusercontent.com/geohacker/india/master/state/india_telengana.geojson",
           "hovertemplate": "<b>%{hovertext}</b><br><br>Month-Year=Sep-18<br>Category=%{customdata[1]}<br>State=%{location}<br>Amount=%{z}<extra></extra>",
           "hovertext": [
            "Andhra Pradesh",
            "Bihar",
            "Gujarat",
            "Himachal Pradesh",
            "Jammu and Kashmir",
            "Kerala ",
            "Madhya Pradesh",
            "Maharashtra",
            "Sikkim"
           ],
           "locations": [
            "Andhra Pradesh",
            "Bihar",
            "Gujarat",
            "Himachal Pradesh",
            "Jammu and Kashmir",
            "Kerala ",
            "Madhya Pradesh",
            "Maharashtra",
            "Sikkim"
           ],
           "name": "",
           "type": "choropleth",
           "z": {
            "bdata": "AAAAAAAgYUAAAAAAACSTQAAAAAAAQIJAAAAAAAAAZkAAAAAAAKBsQAAAAAAAIGpAAAAAAACCoEAAAAAAAKShQAAAAAAAQHFA",
            "dtype": "f8"
           }
          },
          {
           "coloraxis": "coloraxis",
           "customdata": [
            [
             140,
             "Furniture"
            ],
            [
             2477,
             "Furniture"
            ],
            [
             472,
             "Furniture"
            ],
            [
             4623,
             "Furniture"
            ],
            [
             574,
             "Furniture"
            ],
            [
             38,
             "Furniture"
            ],
            [
             380,
             "Furniture"
            ]
           ],
           "featureidkey": "properties.NAME_1",
           "geo": "geo3",
           "geojson": "https://raw.githubusercontent.com/geohacker/india/master/state/india_telengana.geojson",
           "hovertemplate": "<b>%{hovertext}</b><br><br>Month-Year=Sep-18<br>Category=%{customdata[1]}<br>State=%{location}<br>Amount=%{z}<extra></extra>",
           "hovertext": [
            "Jammu and Kashmir",
            "Karnataka",
            "Kerala ",
            "Madhya Pradesh",
            "Maharashtra",
            "Punjab",
            "Uttar Pradesh"
           ],
           "locations": [
            "Jammu and Kashmir",
            "Karnataka",
            "Kerala ",
            "Madhya Pradesh",
            "Maharashtra",
            "Punjab",
            "Uttar Pradesh"
           ],
           "name": "",
           "type": "choropleth",
           "z": {
            "bdata": "AAAAAACAYUAAAAAAAFqjQAAAAAAAgH1AAAAAAAAPskAAAAAAAPCBQAAAAAAAAENAAAAAAADAd0A=",
            "dtype": "f8"
           }
          }
         ],
         "name": "Sep-18"
        },
        {
         "data": [
          {
           "coloraxis": "coloraxis",
           "customdata": [
            [
             381,
             "Clothing"
            ],
            [
             186,
             "Clothing"
            ],
            [
             701,
             "Clothing"
            ],
            [
             234,
             "Clothing"
            ],
            [
             2611,
             "Clothing"
            ],
            [
             2546,
             "Clothing"
            ],
            [
             1541,
             "Clothing"
            ],
            [
             328,
             "Clothing"
            ],
            [
             83,
             "Clothing"
            ],
            [
             171,
             "Clothing"
            ]
           ],
           "featureidkey": "properties.NAME_1",
           "geo": "geo",
           "geojson": "https://raw.githubusercontent.com/geohacker/india/master/state/india_telengana.geojson",
           "hovertemplate": "<b>%{hovertext}</b><br><br>Month-Year=Jun-18<br>Category=%{customdata[1]}<br>State=%{location}<br>Amount=%{z}<extra></extra>",
           "hovertext": [
            "Himachal Pradesh",
            "Jammu and Kashmir",
            "Karnataka",
            "Kerala ",
            "Madhya Pradesh",
            "Maharashtra",
            "Rajasthan",
            "Tamil Nadu",
            "Uttar Pradesh",
            "West Bengal"
           ],
           "locations": [
            "Himachal Pradesh",
            "Jammu and Kashmir",
            "Karnataka",
            "Kerala ",
            "Madhya Pradesh",
            "Maharashtra",
            "Rajasthan",
            "Tamil Nadu",
            "Uttar Pradesh",
            "West Bengal"
           ],
           "name": "",
           "type": "choropleth",
           "z": {
            "bdata": "AAAAAADQd0AAAAAAAEBnQAAAAAAA6IVAAAAAAABAbUAAAAAAAGakQAAAAAAA5KNAAAAAAAAUmEAAAAAAAIB0QAAAAAAAwFRAAAAAAABgZUA=",
            "dtype": "f8"
           }
          },
          {
           "coloraxis": "coloraxis",
           "customdata": [
            [
             545,
             "Electronics"
            ],
            [
             332,
             "Electronics"
            ],
            [
             1809,
             "Electronics"
            ],
            [
             1331,
             "Electronics"
            ],
            [
             678,
             "Electronics"
            ],
            [
             3504,
             "Electronics"
            ],
            [
             697,
             "Electronics"
            ],
            [
             342,
             "Electronics"
            ],
            [
             65,
             "Electronics"
            ],
            [
             21,
             "Electronics"
            ],
            [
             20,
             "Electronics"
            ]
           ],
           "featureidkey": "properties.NAME_1",
           "geo": "geo2",
           "geojson": "https://raw.githubusercontent.com/geohacker/india/master/state/india_telengana.geojson",
           "hovertemplate": "<b>%{hovertext}</b><br><br>Month-Year=Jun-18<br>Category=%{customdata[1]}<br>State=%{location}<br>Amount=%{z}<extra></extra>",
           "hovertext": [
            "Bihar",
            "Himachal Pradesh",
            "Jammu and Kashmir",
            "Karnataka",
            "Kerala ",
            "Madhya Pradesh",
            "Maharashtra",
            "Rajasthan",
            "Tamil Nadu",
            "Uttar Pradesh",
            "West Bengal"
           ],
           "locations": [
            "Bihar",
            "Himachal Pradesh",
            "Jammu and Kashmir",
            "Karnataka",
            "Kerala ",
            "Madhya Pradesh",
            "Maharashtra",
            "Rajasthan",
            "Tamil Nadu",
            "Uttar Pradesh",
            "West Bengal"
           ],
           "name": "",
           "type": "choropleth",
           "z": {
            "bdata": "AAAAAAAIgUAAAAAAAMB0QAAAAAAARJxAAAAAAADMlEAAAAAAADCFQAAAAAAAYKtAAAAAAADIhUAAAAAAAGB1QAAAAAAAQFBAAAAAAAAANUAAAAAAAAA0QA==",
            "dtype": "f8"
           }
          },
          {
           "coloraxis": "coloraxis",
           "customdata": [
            [
             1829,
             "Furniture"
            ],
            [
             155,
             "Furniture"
            ],
            [
             839,
             "Furniture"
            ],
            [
             1499,
             "Furniture"
            ],
            [
             674,
             "Furniture"
            ],
            [
             516,
             "Furniture"
            ],
            [
             20,
             "Furniture"
            ]
           ],
           "featureidkey": "properties.NAME_1",
           "geo": "geo3",
           "geojson": "https://raw.githubusercontent.com/geohacker/india/master/state/india_telengana.geojson",
           "hovertemplate": "<b>%{hovertext}</b><br><br>Month-Year=Jun-18<br>Category=%{customdata[1]}<br>State=%{location}<br>Amount=%{z}<extra></extra>",
           "hovertext": [
            "Himachal Pradesh",
            "Kerala ",
            "Madhya Pradesh",
            "Maharashtra",
            "Rajasthan",
            "Tamil Nadu",
            "Uttar Pradesh"
           ],
           "locations": [
            "Himachal Pradesh",
            "Kerala ",
            "Madhya Pradesh",
            "Maharashtra",
            "Rajasthan",
            "Tamil Nadu",
            "Uttar Pradesh"
           ],
           "name": "",
           "type": "choropleth",
           "z": {
            "bdata": "AAAAAACUnEAAAAAAAGBjQAAAAAAAOIpAAAAAAABsl0AAAAAAABCFQAAAAAAAIIBAAAAAAAAANEA=",
            "dtype": "f8"
           }
          }
         ],
         "name": "Jun-18"
        },
        {
         "data": [
          {
           "coloraxis": "coloraxis",
           "customdata": [
            [
             1586,
             "Clothing"
            ],
            [
             705,
             "Clothing"
            ],
            [
             1264,
             "Clothing"
            ],
            [
             3300,
             "Clothing"
            ],
            [
             343,
             "Clothing"
            ],
            [
             1200,
             "Clothing"
            ],
            [
             1147,
             "Clothing"
            ]
           ],
           "featureidkey": "properties.NAME_1",
           "geo": "geo",
           "geojson": "https://raw.githubusercontent.com/geohacker/india/master/state/india_telengana.geojson",
           "hovertemplate": "<b>%{hovertext}</b><br><br>Month-Year=Dec-18<br>Category=%{customdata[1]}<br>State=%{location}<br>Amount=%{z}<extra></extra>",
           "hovertext": [
            "Delhi",
            "Gujarat",
            "Madhya Pradesh",
            "Maharashtra",
            "Punjab",
            "Rajasthan",
            "Uttar Pradesh"
           ],
           "locations": [
            "Delhi",
            "Gujarat",
            "Madhya Pradesh",
            "Maharashtra",
            "Punjab",
            "Rajasthan",
            "Uttar Pradesh"
           ],
           "name": "",
           "type": "choropleth",
           "z": {
            "bdata": "AAAAAADImEAAAAAAAAiGQAAAAAAAwJNAAAAAAADIqUAAAAAAAHB1QAAAAAAAwJJAAAAAAADskUA=",
            "dtype": "f8"
           }
          },
          {
           "coloraxis": "coloraxis",
           "customdata": [
            [
             850,
             "Electronics"
            ],
            [
             3578,
             "Electronics"
            ],
            [
             5853,
             "Electronics"
            ],
            [
             1511,
             "Electronics"
            ],
            [
             3383,
             "Electronics"
            ],
            [
             3385,
             "Electronics"
            ]
           ],
           "featureidkey": "properties.NAME_1",
           "geo": "geo2",
           "geojson": "https://raw.githubusercontent.com/geohacker/india/master/state/india_telengana.geojson",
           "hovertemplate": "<b>%{hovertext}</b><br><br>Month-Year=Dec-18<br>Category=%{customdata[1]}<br>State=%{location}<br>Amount=%{z}<extra></extra>",
           "hovertext": [
            "Delhi",
            "Madhya Pradesh",
            "Maharashtra",
            "Punjab",
            "Rajasthan",
            "Uttar Pradesh"
           ],
           "locations": [
            "Delhi",
            "Madhya Pradesh",
            "Maharashtra",
            "Punjab",
            "Rajasthan",
            "Uttar Pradesh"
           ],
           "name": "",
           "type": "choropleth",
           "z": {
            "bdata": "AAAAAACQikAAAAAAAPSrQAAAAAAA3bZAAAAAAACcl0AAAAAAAG6qQAAAAAAAcqpA",
            "dtype": "f8"
           }
          },
          {
           "coloraxis": "coloraxis",
           "customdata": [
            [
             3036,
             "Furniture"
            ],
            [
             547,
             "Furniture"
            ],
            [
             148,
             "Furniture"
            ],
            [
             304,
             "Furniture"
            ],
            [
             1575,
             "Furniture"
            ],
            [
             1246,
             "Furniture"
            ],
            [
             1772,
             "Furniture"
            ],
            [
             846,
             "Furniture"
            ]
           ],
           "featureidkey": "properties.NAME_1",
           "geo": "geo3",
           "geojson": "https://raw.githubusercontent.com/geohacker/india/master/state/india_telengana.geojson",
           "hovertemplate": "<b>%{hovertext}</b><br><br>Month-Year=Dec-18<br>Category=%{customdata[1]}<br>State=%{location}<br>Amount=%{z}<extra></extra>",
           "hovertext": [
            "Delhi",
            "Gujarat",
            "Karnataka",
            "Madhya Pradesh",
            "Maharashtra",
            "Punjab",
            "Rajasthan",
            "Uttar Pradesh"
           ],
           "locations": [
            "Delhi",
            "Gujarat",
            "Karnataka",
            "Madhya Pradesh",
            "Maharashtra",
            "Punjab",
            "Rajasthan",
            "Uttar Pradesh"
           ],
           "name": "",
           "type": "choropleth",
           "z": {
            "bdata": "AAAAAAC4p0AAAAAAABiBQAAAAAAAgGJAAAAAAAAAc0AAAAAAAJyYQAAAAAAAeJNAAAAAAACwm0AAAAAAAHCKQA==",
            "dtype": "f8"
           }
          }
         ],
         "name": "Dec-18"
        },
        {
         "data": [
          {
           "coloraxis": "coloraxis",
           "customdata": [
            [
             31,
             "Clothing"
            ],
            [
             220,
             "Clothing"
            ],
            [
             48,
             "Clothing"
            ],
            [
             367,
             "Clothing"
            ],
            [
             659,
             "Clothing"
            ],
            [
             612,
             "Clothing"
            ],
            [
             49,
             "Clothing"
            ],
            [
             114,
             "Clothing"
            ],
            [
             58,
             "Clothing"
            ],
            [
             823,
             "Clothing"
            ]
           ],
           "featureidkey": "properties.NAME_1",
           "geo": "geo",
           "geojson": "https://raw.githubusercontent.com/geohacker/india/master/state/india_telengana.geojson",
           "hovertemplate": "<b>%{hovertext}</b><br><br>Month-Year=Jul-18<br>Category=%{customdata[1]}<br>State=%{location}<br>Amount=%{z}<extra></extra>",
           "hovertext": [
            "Goa",
            "Haryana",
            "Himachal Pradesh",
            "Karnataka",
            "Madhya Pradesh",
            "Maharashtra",
            "Nagaland",
            "Rajasthan",
            "Tamil Nadu",
            "Uttar Pradesh"
           ],
           "locations": [
            "Goa",
            "Haryana",
            "Himachal Pradesh",
            "Karnataka",
            "Madhya Pradesh",
            "Maharashtra",
            "Nagaland",
            "Rajasthan",
            "Tamil Nadu",
            "Uttar Pradesh"
           ],
           "name": "",
           "type": "choropleth",
           "z": {
            "bdata": "AAAAAAAAP0AAAAAAAIBrQAAAAAAAAEhAAAAAAADwdkAAAAAAAJiEQAAAAAAAIINAAAAAAACASEAAAAAAAIBcQAAAAAAAAE1AAAAAAAC4iUA=",
            "dtype": "f8"
           }
          },
          {
           "coloraxis": "coloraxis",
           "customdata": [
            [
             149,
             "Electronics"
            ],
            [
             416,
             "Electronics"
            ],
            [
             2366,
             "Electronics"
            ],
            [
             1902,
             "Electronics"
            ],
            [
             144,
             "Electronics"
            ],
            [
             1525,
             "Electronics"
            ]
           ],
           "featureidkey": "properties.NAME_1",
           "geo": "geo2",
           "geojson": "https://raw.githubusercontent.com/geohacker/india/master/state/india_telengana.geojson",
           "hovertemplate": "<b>%{hovertext}</b><br><br>Month-Year=Jul-18<br>Category=%{customdata[1]}<br>State=%{location}<br>Amount=%{z}<extra></extra>",
           "hovertext": [
            "Haryana",
            "Jammu and Kashmir",
            "Madhya Pradesh",
            "Maharashtra",
            "Nagaland",
            "Rajasthan"
           ],
           "locations": [
            "Haryana",
            "Jammu and Kashmir",
            "Madhya Pradesh",
            "Maharashtra",
            "Nagaland",
            "Rajasthan"
           ],
           "name": "",
           "type": "choropleth",
           "z": {
            "bdata": "AAAAAACgYkAAAAAAAAB6QAAAAAAAfKJAAAAAAAC4nUAAAAAAAABiQAAAAAAA1JdA",
            "dtype": "f8"
           }
          },
          {
           "coloraxis": "coloraxis",
           "customdata": [
            [
             400,
             "Furniture"
            ],
            [
             2153,
             "Furniture"
            ],
            [
             30,
             "Furniture"
            ],
            [
             556,
             "Furniture"
            ],
            [
             55,
             "Furniture"
            ],
            [
             289,
             "Furniture"
            ]
           ],
           "featureidkey": "properties.NAME_1",
           "geo": "geo3",
           "geojson": "https://raw.githubusercontent.com/geohacker/india/master/state/india_telengana.geojson",
           "hovertemplate": "<b>%{hovertext}</b><br><br>Month-Year=Jul-18<br>Category=%{customdata[1]}<br>State=%{location}<br>Amount=%{z}<extra></extra>",
           "hovertext": [
            "Madhya Pradesh",
            "Maharashtra",
            "Punjab",
            "Rajasthan",
            "Uttar Pradesh",
            "West Bengal"
           ],
           "locations": [
            "Madhya Pradesh",
            "Maharashtra",
            "Punjab",
            "Rajasthan",
            "Uttar Pradesh",
            "West Bengal"
           ],
           "name": "",
           "type": "choropleth",
           "z": {
            "bdata": "AAAAAAAAeUAAAAAAANKgQAAAAAAAAD5AAAAAAABggUAAAAAAAIBLQAAAAAAAEHJA",
            "dtype": "f8"
           }
          }
         ],
         "name": "Jul-18"
        }
       ],
       "layout": {
        "annotations": [
         {
          "font": {},
          "showarrow": false,
          "text": "Category=Clothing",
          "x": 0.15999999999999998,
          "xanchor": "center",
          "xref": "paper",
          "y": 1,
          "yanchor": "bottom",
          "yref": "paper"
         },
         {
          "font": {},
          "showarrow": false,
          "text": "Category=Electronics",
          "x": 0.49999999999999994,
          "xanchor": "center",
          "xref": "paper",
          "y": 1,
          "yanchor": "bottom",
          "yref": "paper"
         },
         {
          "font": {},
          "showarrow": false,
          "text": "Category=Furniture",
          "x": 0.8399999999999999,
          "xanchor": "center",
          "xref": "paper",
          "y": 1,
          "yanchor": "bottom",
          "yref": "paper"
         }
        ],
        "coloraxis": {
         "colorbar": {
          "title": {
           "text": "Amount"
          }
         },
         "colorscale": [
          [
           0,
           "rgb(247,251,255)"
          ],
          [
           0.125,
           "rgb(222,235,247)"
          ],
          [
           0.25,
           "rgb(198,219,239)"
          ],
          [
           0.375,
           "rgb(158,202,225)"
          ],
          [
           0.5,
           "rgb(107,174,214)"
          ],
          [
           0.625,
           "rgb(66,146,198)"
          ],
          [
           0.75,
           "rgb(33,113,181)"
          ],
          [
           0.875,
           "rgb(8,81,156)"
          ],
          [
           1,
           "rgb(8,48,107)"
          ]
         ]
        },
        "geo": {
         "center": {},
         "domain": {
          "x": [
           0,
           0.31999999999999995
          ],
          "y": [
           0,
           1
          ]
         },
         "fitbounds": "locations",
         "visible": false
        },
        "geo2": {
         "center": {},
         "domain": {
          "x": [
           0.33999999999999997,
           0.6599999999999999
          ],
          "y": [
           0,
           1
          ]
         },
         "fitbounds": "locations",
         "visible": false
        },
        "geo3": {
         "center": {},
         "domain": {
          "x": [
           0.6799999999999999,
           0.9999999999999999
          ],
          "y": [
           0,
           1
          ]
         },
         "fitbounds": "locations",
         "visible": false
        },
        "legend": {
         "tracegroupgap": 0
        },
        "sliders": [
         {
          "active": 0,
          "currentvalue": {
           "prefix": "Month-Year="
          },
          "len": 0.9,
          "pad": {
           "b": 10,
           "t": 60
          },
          "steps": [
           {
            "args": [
             [
              "Apr-18"
             ],
             {
              "frame": {
               "duration": 0,
               "redraw": true
              },
              "fromcurrent": true,
              "mode": "immediate",
              "transition": {
               "duration": 0,
               "easing": "linear"
              }
             }
            ],
            "label": "Apr-18",
            "method": "animate"
           },
           {
            "args": [
             [
              "Feb-19"
             ],
             {
              "frame": {
               "duration": 0,
               "redraw": true
              },
              "fromcurrent": true,
              "mode": "immediate",
              "transition": {
               "duration": 0,
               "easing": "linear"
              }
             }
            ],
            "label": "Feb-19",
            "method": "animate"
           },
           {
            "args": [
             [
              "Jan-19"
             ],
             {
              "frame": {
               "duration": 0,
               "redraw": true
              },
              "fromcurrent": true,
              "mode": "immediate",
              "transition": {
               "duration": 0,
               "easing": "linear"
              }
             }
            ],
            "label": "Jan-19",
            "method": "animate"
           },
           {
            "args": [
             [
              "Mar-19"
             ],
             {
              "frame": {
               "duration": 0,
               "redraw": true
              },
              "fromcurrent": true,
              "mode": "immediate",
              "transition": {
               "duration": 0,
               "easing": "linear"
              }
             }
            ],
            "label": "Mar-19",
            "method": "animate"
           },
           {
            "args": [
             [
              "May-18"
             ],
             {
              "frame": {
               "duration": 0,
               "redraw": true
              },
              "fromcurrent": true,
              "mode": "immediate",
              "transition": {
               "duration": 0,
               "easing": "linear"
              }
             }
            ],
            "label": "May-18",
            "method": "animate"
           },
           {
            "args": [
             [
              "Nov-18"
             ],
             {
              "frame": {
               "duration": 0,
               "redraw": true
              },
              "fromcurrent": true,
              "mode": "immediate",
              "transition": {
               "duration": 0,
               "easing": "linear"
              }
             }
            ],
            "label": "Nov-18",
            "method": "animate"
           },
           {
            "args": [
             [
              "Oct-18"
             ],
             {
              "frame": {
               "duration": 0,
               "redraw": true
              },
              "fromcurrent": true,
              "mode": "immediate",
              "transition": {
               "duration": 0,
               "easing": "linear"
              }
             }
            ],
            "label": "Oct-18",
            "method": "animate"
           },
           {
            "args": [
             [
              "Aug-18"
             ],
             {
              "frame": {
               "duration": 0,
               "redraw": true
              },
              "fromcurrent": true,
              "mode": "immediate",
              "transition": {
               "duration": 0,
               "easing": "linear"
              }
             }
            ],
            "label": "Aug-18",
            "method": "animate"
           },
           {
            "args": [
             [
              "Sep-18"
             ],
             {
              "frame": {
               "duration": 0,
               "redraw": true
              },
              "fromcurrent": true,
              "mode": "immediate",
              "transition": {
               "duration": 0,
               "easing": "linear"
              }
             }
            ],
            "label": "Sep-18",
            "method": "animate"
           },
           {
            "args": [
             [
              "Jun-18"
             ],
             {
              "frame": {
               "duration": 0,
               "redraw": true
              },
              "fromcurrent": true,
              "mode": "immediate",
              "transition": {
               "duration": 0,
               "easing": "linear"
              }
             }
            ],
            "label": "Jun-18",
            "method": "animate"
           },
           {
            "args": [
             [
              "Dec-18"
             ],
             {
              "frame": {
               "duration": 0,
               "redraw": true
              },
              "fromcurrent": true,
              "mode": "immediate",
              "transition": {
               "duration": 0,
               "easing": "linear"
              }
             }
            ],
            "label": "Dec-18",
            "method": "animate"
           },
           {
            "args": [
             [
              "Jul-18"
             ],
             {
              "frame": {
               "duration": 0,
               "redraw": true
              },
              "fromcurrent": true,
              "mode": "immediate",
              "transition": {
               "duration": 0,
               "easing": "linear"
              }
             }
            ],
            "label": "Jul-18",
            "method": "animate"
           }
          ],
          "x": 0.1,
          "xanchor": "left",
          "y": 0,
          "yanchor": "top"
         }
        ],
        "template": {
         "data": {
          "bar": [
           {
            "error_x": {
             "color": "#2a3f5f"
            },
            "error_y": {
             "color": "#2a3f5f"
            },
            "marker": {
             "line": {
              "color": "#E5ECF6",
              "width": 0.5
             },
             "pattern": {
              "fillmode": "overlay",
              "size": 10,
              "solidity": 0.2
             }
            },
            "type": "bar"
           }
          ],
          "barpolar": [
           {
            "marker": {
             "line": {
              "color": "#E5ECF6",
              "width": 0.5
             },
             "pattern": {
              "fillmode": "overlay",
              "size": 10,
              "solidity": 0.2
             }
            },
            "type": "barpolar"
           }
          ],
          "carpet": [
           {
            "aaxis": {
             "endlinecolor": "#2a3f5f",
             "gridcolor": "white",
             "linecolor": "white",
             "minorgridcolor": "white",
             "startlinecolor": "#2a3f5f"
            },
            "baxis": {
             "endlinecolor": "#2a3f5f",
             "gridcolor": "white",
             "linecolor": "white",
             "minorgridcolor": "white",
             "startlinecolor": "#2a3f5f"
            },
            "type": "carpet"
           }
          ],
          "choropleth": [
           {
            "colorbar": {
             "outlinewidth": 0,
             "ticks": ""
            },
            "type": "choropleth"
           }
          ],
          "contour": [
           {
            "colorbar": {
             "outlinewidth": 0,
             "ticks": ""
            },
            "colorscale": [
             [
              0,
              "#0d0887"
             ],
             [
              0.1111111111111111,
              "#46039f"
             ],
             [
              0.2222222222222222,
              "#7201a8"
             ],
             [
              0.3333333333333333,
              "#9c179e"
             ],
             [
              0.4444444444444444,
              "#bd3786"
             ],
             [
              0.5555555555555556,
              "#d8576b"
             ],
             [
              0.6666666666666666,
              "#ed7953"
             ],
             [
              0.7777777777777778,
              "#fb9f3a"
             ],
             [
              0.8888888888888888,
              "#fdca26"
             ],
             [
              1,
              "#f0f921"
             ]
            ],
            "type": "contour"
           }
          ],
          "contourcarpet": [
           {
            "colorbar": {
             "outlinewidth": 0,
             "ticks": ""
            },
            "type": "contourcarpet"
           }
          ],
          "heatmap": [
           {
            "colorbar": {
             "outlinewidth": 0,
             "ticks": ""
            },
            "colorscale": [
             [
              0,
              "#0d0887"
             ],
             [
              0.1111111111111111,
              "#46039f"
             ],
             [
              0.2222222222222222,
              "#7201a8"
             ],
             [
              0.3333333333333333,
              "#9c179e"
             ],
             [
              0.4444444444444444,
              "#bd3786"
             ],
             [
              0.5555555555555556,
              "#d8576b"
             ],
             [
              0.6666666666666666,
              "#ed7953"
             ],
             [
              0.7777777777777778,
              "#fb9f3a"
             ],
             [
              0.8888888888888888,
              "#fdca26"
             ],
             [
              1,
              "#f0f921"
             ]
            ],
            "type": "heatmap"
           }
          ],
          "histogram": [
           {
            "marker": {
             "pattern": {
              "fillmode": "overlay",
              "size": 10,
              "solidity": 0.2
             }
            },
            "type": "histogram"
           }
          ],
          "histogram2d": [
           {
            "colorbar": {
             "outlinewidth": 0,
             "ticks": ""
            },
            "colorscale": [
             [
              0,
              "#0d0887"
             ],
             [
              0.1111111111111111,
              "#46039f"
             ],
             [
              0.2222222222222222,
              "#7201a8"
             ],
             [
              0.3333333333333333,
              "#9c179e"
             ],
             [
              0.4444444444444444,
              "#bd3786"
             ],
             [
              0.5555555555555556,
              "#d8576b"
             ],
             [
              0.6666666666666666,
              "#ed7953"
             ],
             [
              0.7777777777777778,
              "#fb9f3a"
             ],
             [
              0.8888888888888888,
              "#fdca26"
             ],
             [
              1,
              "#f0f921"
             ]
            ],
            "type": "histogram2d"
           }
          ],
          "histogram2dcontour": [
           {
            "colorbar": {
             "outlinewidth": 0,
             "ticks": ""
            },
            "colorscale": [
             [
              0,
              "#0d0887"
             ],
             [
              0.1111111111111111,
              "#46039f"
             ],
             [
              0.2222222222222222,
              "#7201a8"
             ],
             [
              0.3333333333333333,
              "#9c179e"
             ],
             [
              0.4444444444444444,
              "#bd3786"
             ],
             [
              0.5555555555555556,
              "#d8576b"
             ],
             [
              0.6666666666666666,
              "#ed7953"
             ],
             [
              0.7777777777777778,
              "#fb9f3a"
             ],
             [
              0.8888888888888888,
              "#fdca26"
             ],
             [
              1,
              "#f0f921"
             ]
            ],
            "type": "histogram2dcontour"
           }
          ],
          "mesh3d": [
           {
            "colorbar": {
             "outlinewidth": 0,
             "ticks": ""
            },
            "type": "mesh3d"
           }
          ],
          "parcoords": [
           {
            "line": {
             "colorbar": {
              "outlinewidth": 0,
              "ticks": ""
             }
            },
            "type": "parcoords"
           }
          ],
          "pie": [
           {
            "automargin": true,
            "type": "pie"
           }
          ],
          "scatter": [
           {
            "fillpattern": {
             "fillmode": "overlay",
             "size": 10,
             "solidity": 0.2
            },
            "type": "scatter"
           }
          ],
          "scatter3d": [
           {
            "line": {
             "colorbar": {
              "outlinewidth": 0,
              "ticks": ""
             }
            },
            "marker": {
             "colorbar": {
              "outlinewidth": 0,
              "ticks": ""
             }
            },
            "type": "scatter3d"
           }
          ],
          "scattercarpet": [
           {
            "marker": {
             "colorbar": {
              "outlinewidth": 0,
              "ticks": ""
             }
            },
            "type": "scattercarpet"
           }
          ],
          "scattergeo": [
           {
            "marker": {
             "colorbar": {
              "outlinewidth": 0,
              "ticks": ""
             }
            },
            "type": "scattergeo"
           }
          ],
          "scattergl": [
           {
            "marker": {
             "colorbar": {
              "outlinewidth": 0,
              "ticks": ""
             }
            },
            "type": "scattergl"
           }
          ],
          "scattermap": [
           {
            "marker": {
             "colorbar": {
              "outlinewidth": 0,
              "ticks": ""
             }
            },
            "type": "scattermap"
           }
          ],
          "scattermapbox": [
           {
            "marker": {
             "colorbar": {
              "outlinewidth": 0,
              "ticks": ""
             }
            },
            "type": "scattermapbox"
           }
          ],
          "scatterpolar": [
           {
            "marker": {
             "colorbar": {
              "outlinewidth": 0,
              "ticks": ""
             }
            },
            "type": "scatterpolar"
           }
          ],
          "scatterpolargl": [
           {
            "marker": {
             "colorbar": {
              "outlinewidth": 0,
              "ticks": ""
             }
            },
            "type": "scatterpolargl"
           }
          ],
          "scatterternary": [
           {
            "marker": {
             "colorbar": {
              "outlinewidth": 0,
              "ticks": ""
             }
            },
            "type": "scatterternary"
           }
          ],
          "surface": [
           {
            "colorbar": {
             "outlinewidth": 0,
             "ticks": ""
            },
            "colorscale": [
             [
              0,
              "#0d0887"
             ],
             [
              0.1111111111111111,
              "#46039f"
             ],
             [
              0.2222222222222222,
              "#7201a8"
             ],
             [
              0.3333333333333333,
              "#9c179e"
             ],
             [
              0.4444444444444444,
              "#bd3786"
             ],
             [
              0.5555555555555556,
              "#d8576b"
             ],
             [
              0.6666666666666666,
              "#ed7953"
             ],
             [
              0.7777777777777778,
              "#fb9f3a"
             ],
             [
              0.8888888888888888,
              "#fdca26"
             ],
             [
              1,
              "#f0f921"
             ]
            ],
            "type": "surface"
           }
          ],
          "table": [
           {
            "cells": {
             "fill": {
              "color": "#EBF0F8"
             },
             "line": {
              "color": "white"
             }
            },
            "header": {
             "fill": {
              "color": "#C8D4E3"
             },
             "line": {
              "color": "white"
             }
            },
            "type": "table"
           }
          ]
         },
         "layout": {
          "annotationdefaults": {
           "arrowcolor": "#2a3f5f",
           "arrowhead": 0,
           "arrowwidth": 1
          },
          "autotypenumbers": "strict",
          "coloraxis": {
           "colorbar": {
            "outlinewidth": 0,
            "ticks": ""
           }
          },
          "colorscale": {
           "diverging": [
            [
             0,
             "#8e0152"
            ],
            [
             0.1,
             "#c51b7d"
            ],
            [
             0.2,
             "#de77ae"
            ],
            [
             0.3,
             "#f1b6da"
            ],
            [
             0.4,
             "#fde0ef"
            ],
            [
             0.5,
             "#f7f7f7"
            ],
            [
             0.6,
             "#e6f5d0"
            ],
            [
             0.7,
             "#b8e186"
            ],
            [
             0.8,
             "#7fbc41"
            ],
            [
             0.9,
             "#4d9221"
            ],
            [
             1,
             "#276419"
            ]
           ],
           "sequential": [
            [
             0,
             "#0d0887"
            ],
            [
             0.1111111111111111,
             "#46039f"
            ],
            [
             0.2222222222222222,
             "#7201a8"
            ],
            [
             0.3333333333333333,
             "#9c179e"
            ],
            [
             0.4444444444444444,
             "#bd3786"
            ],
            [
             0.5555555555555556,
             "#d8576b"
            ],
            [
             0.6666666666666666,
             "#ed7953"
            ],
            [
             0.7777777777777778,
             "#fb9f3a"
            ],
            [
             0.8888888888888888,
             "#fdca26"
            ],
            [
             1,
             "#f0f921"
            ]
           ],
           "sequentialminus": [
            [
             0,
             "#0d0887"
            ],
            [
             0.1111111111111111,
             "#46039f"
            ],
            [
             0.2222222222222222,
             "#7201a8"
            ],
            [
             0.3333333333333333,
             "#9c179e"
            ],
            [
             0.4444444444444444,
             "#bd3786"
            ],
            [
             0.5555555555555556,
             "#d8576b"
            ],
            [
             0.6666666666666666,
             "#ed7953"
            ],
            [
             0.7777777777777778,
             "#fb9f3a"
            ],
            [
             0.8888888888888888,
             "#fdca26"
            ],
            [
             1,
             "#f0f921"
            ]
           ]
          },
          "colorway": [
           "#636efa",
           "#EF553B",
           "#00cc96",
           "#ab63fa",
           "#FFA15A",
           "#19d3f3",
           "#FF6692",
           "#B6E880",
           "#FF97FF",
           "#FECB52"
          ],
          "font": {
           "color": "#2a3f5f"
          },
          "geo": {
           "bgcolor": "white",
           "lakecolor": "white",
           "landcolor": "#E5ECF6",
           "showlakes": true,
           "showland": true,
           "subunitcolor": "white"
          },
          "hoverlabel": {
           "align": "left"
          },
          "hovermode": "closest",
          "mapbox": {
           "style": "light"
          },
          "paper_bgcolor": "white",
          "plot_bgcolor": "#E5ECF6",
          "polar": {
           "angularaxis": {
            "gridcolor": "white",
            "linecolor": "white",
            "ticks": ""
           },
           "bgcolor": "#E5ECF6",
           "radialaxis": {
            "gridcolor": "white",
            "linecolor": "white",
            "ticks": ""
           }
          },
          "scene": {
           "xaxis": {
            "backgroundcolor": "#E5ECF6",
            "gridcolor": "white",
            "gridwidth": 2,
            "linecolor": "white",
            "showbackground": true,
            "ticks": "",
            "zerolinecolor": "white"
           },
           "yaxis": {
            "backgroundcolor": "#E5ECF6",
            "gridcolor": "white",
            "gridwidth": 2,
            "linecolor": "white",
            "showbackground": true,
            "ticks": "",
            "zerolinecolor": "white"
           },
           "zaxis": {
            "backgroundcolor": "#E5ECF6",
            "gridcolor": "white",
            "gridwidth": 2,
            "linecolor": "white",
            "showbackground": true,
            "ticks": "",
            "zerolinecolor": "white"
           }
          },
          "shapedefaults": {
           "line": {
            "color": "#2a3f5f"
           }
          },
          "ternary": {
           "aaxis": {
            "gridcolor": "white",
            "linecolor": "white",
            "ticks": ""
           },
           "baxis": {
            "gridcolor": "white",
            "linecolor": "white",
            "ticks": ""
           },
           "bgcolor": "#E5ECF6",
           "caxis": {
            "gridcolor": "white",
            "linecolor": "white",
            "ticks": ""
           }
          },
          "title": {
           "x": 0.05
          },
          "xaxis": {
           "automargin": true,
           "gridcolor": "white",
           "linecolor": "white",
           "ticks": "",
           "title": {
            "standoff": 15
           },
           "zerolinecolor": "white",
           "zerolinewidth": 2
          },
          "yaxis": {
           "automargin": true,
           "gridcolor": "white",
           "linecolor": "white",
           "ticks": "",
           "title": {
            "standoff": 15
           },
           "zerolinecolor": "white",
           "zerolinewidth": 2
          }
         }
        },
        "title": {
         "text": "Total Sales by State, Category, and Month"
        },
        "updatemenus": [
         {
          "buttons": [
           {
            "args": [
             null,
             {
              "frame": {
               "duration": 500,
               "redraw": true
              },
              "fromcurrent": true,
              "mode": "immediate",
              "transition": {
               "duration": 500,
               "easing": "linear"
              }
             }
            ],
            "label": "&#9654;",
            "method": "animate"
           },
           {
            "args": [
             [
              null
             ],
             {
              "frame": {
               "duration": 0,
               "redraw": true
              },
              "fromcurrent": true,
              "mode": "immediate",
              "transition": {
               "duration": 0,
               "easing": "linear"
              }
             }
            ],
            "label": "&#9724;",
            "method": "animate"
           }
          ],
          "direction": "left",
          "pad": {
           "r": 10,
           "t": 70
          },
          "showactive": false,
          "type": "buttons",
          "x": 0.1,
          "xanchor": "right",
          "y": 0,
          "yanchor": "top"
         }
        ]
       }
      }
     },
     "metadata": {},
     "output_type": "display_data"
    }
   ],
   "source": [
    "# Assume final_df has columns: State, Amount, Category, Month-Year\n",
    "final_df['Month-Year'] = pd.to_datetime(final_df['Order Date']).dt.strftime('%b-%y')\n",
    "\n",
    "# Aggregate sales by State, Category, and Month\n",
    "agg_df = final_df.groupby(['State', 'Category', 'Month-Year'], as_index=False)['Amount'].sum()\n",
    "\n",
    "import plotly.express as px\n",
    "import nbformat\n",
    "\n",
    "fig = px.choropleth(\n",
    "    agg_df,\n",
    "    geojson='https://raw.githubusercontent.com/geohacker/india/master/state/india_telengana.geojson',\n",
    "    featureidkey='properties.NAME_1',\n",
    "    locations='State',\n",
    "    color='Amount',\n",
    "    color_continuous_scale='Blues',\n",
    "    hover_name='State',\n",
    "    hover_data={'Amount': True, 'Category': True},\n",
    "    animation_frame='Month-Year',    # allows filtering by month\n",
    "    facet_col='Category',            # shows separate maps for each category\n",
    "    title='Total Sales by State, Category, and Month'\n",
    ")\n",
    "\n",
    "fig.update_geos(fitbounds=\"locations\", visible=False)\n",
    "# fig.write_image('Choropleth of Total Sales By State, Category, Month.png')\n",
    "fig.show()\n"
   ]
  },
  {
   "cell_type": "markdown",
   "id": "df46e223",
   "metadata": {},
   "source": [
    "Find top 10 customers by total purchase value.\n"
   ]
  },
  {
   "cell_type": "code",
   "execution_count": 20,
   "id": "267d3430",
   "metadata": {},
   "outputs": [
    {
     "name": "stdout",
     "output_type": "stream",
     "text": [
      "CustomerName\n",
      "Yaanvi      9177.0\n",
      "Pooja       9030.0\n",
      "Abhishek    8135.0\n",
      "Surabhi     6889.0\n",
      "Soumya      6869.0\n",
      "Harshal     6026.0\n",
      "Priyanka    5762.0\n",
      "Shruti      5750.0\n",
      "Abhijeet    5691.0\n",
      "Sarita      5449.0\n",
      "Name: Amount, dtype: float64\n"
     ]
    }
   ],
   "source": [
    "Top10_Purchased_customers = final_df.groupby('CustomerName')['Amount'].sum().sort_values(ascending=False)\n",
    "Top10_Purchased_customers.to_excel('Top Customers by Total Purchasr Value.xlsx')\n",
    "print(Top10_Purchased_customers.head(10))"
   ]
  },
  {
   "cell_type": "markdown",
   "id": "0f921310",
   "metadata": {},
   "source": [
    "Calculate average order value (AOV).\n"
   ]
  },
  {
   "cell_type": "code",
   "execution_count": 21,
   "id": "0300bb7d",
   "metadata": {},
   "outputs": [
    {
     "name": "stdout",
     "output_type": "stream",
     "text": [
      "287.668\n"
     ]
    }
   ],
   "source": [
    "avg_order_value = final_df['Amount'].mean()\n",
    "print(avg_order_value)"
   ]
  },
  {
   "cell_type": "markdown",
   "id": "123bbc62",
   "metadata": {},
   "source": [
    "Determine frequency of orders per customer.\n",
    "\n",
    "\n"
   ]
  },
  {
   "cell_type": "code",
   "execution_count": 22,
   "id": "30a5c42a",
   "metadata": {},
   "outputs": [
    {
     "name": "stdout",
     "output_type": "stream",
     "text": [
      "CustomerName\n",
      "Aakanksha      37.00\n",
      "Aarushi       391.75\n",
      "Aashna        275.86\n",
      "Aastha        546.00\n",
      "Aayush         92.67\n",
      "              ...   \n",
      "Wale           32.50\n",
      "Yaanvi        705.92\n",
      "Yash          158.20\n",
      "Yogesh        338.81\n",
      "Yohann       1314.00\n",
      "Name: Amount, Length: 332, dtype: float64\n"
     ]
    }
   ],
   "source": [
    "frequency_order_cust = round(final_df.groupby('CustomerName')['Amount'].mean(),2)\n",
    "print(frequency_order_cust)"
   ]
  },
  {
   "cell_type": "markdown",
   "id": "f4eeb593",
   "metadata": {},
   "source": [
    "Plot monthly trends for:   \n",
    "Total Sales,  \n",
    "Profit,  \n",
    "Quantity sold,  \n",
    "Use matplotlib or seaborn line plots.        \n"
   ]
  },
  {
   "cell_type": "code",
   "execution_count": 23,
   "id": "ea41ab7f",
   "metadata": {},
   "outputs": [
    {
     "data": {
      "image/png": "[encoded data removed]",
      "text/plain": [
       "<Figure size 640x480 with 1 Axes>"
      ]
     },
     "metadata": {},
     "output_type": "display_data"
    }
   ],
   "source": [
    "final_df['Month-Year'] = pd.to_datetime(final_df['Order Date']).dt.strftime('%b-%y')\n",
    "\n",
    "Total_sales = final_df.groupby('Month-Year').agg({\n",
    "    'Amount':'sum',\n",
    "    'Profit':'sum',\n",
    "    'Quantity':'sum'\n",
    "})\n",
    "\n",
    "plt.plot(Total_sales,  marker='o')\n",
    "plt.savefig('Line Chart Of Total Sales, Profit, Quantity Sold, by Month ')"
   ]
  },
  {
   "cell_type": "markdown",
   "id": "c48f2f11",
   "metadata": {},
   "source": [
    "Add moving average (3-month rolling mean).\n"
   ]
  },
  {
   "cell_type": "code",
   "execution_count": 24,
   "id": "d3f07441",
   "metadata": {},
   "outputs": [
    {
     "data": {
      "image/png": "[encoded data removed]",
      "text/plain": [
       "<Figure size 640x480 with 1 Axes>"
      ]
     },
     "metadata": {},
     "output_type": "display_data"
    }
   ],
   "source": [
    "final_df['Month-Year'] = pd.to_datetime(final_df['Order Date']).dt.to_period('M')\n",
    "\n",
    "Total_sales = final_df.groupby('Month-Year').agg({\n",
    "    'Amount':'sum',\n",
    "    'Profit':'sum',\n",
    "    'Quantity':'sum'\n",
    "})\n",
    "Total_sales.index = Total_sales.index.to_timestamp()\n",
    "moving_avg = Total_sales.rolling(window=3).mean()\n",
    "\n",
    "plt.Figure(figsize=(10,6))\n",
    "plt.plot(Total_sales.index, Total_sales['Amount'], label='Total_sales', marker='o')\n",
    "plt.plot(moving_avg.index, moving_avg['Amount'], label='Sales(3Mon Moving Avg)', linestyle='--')\n",
    "\n",
    "plt.plot(Total_sales.index, Total_sales['Profit'], label='Total_sales', marker='o')\n",
    "plt.plot(moving_avg.index, moving_avg['Profit'], label='Sales(3Mon Moving Avg)', linestyle='--')\n",
    "\n",
    "plt.plot(Total_sales.index, Total_sales['Quantity'], label='Total_sales', marker='o')\n",
    "plt.plot(moving_avg.index, moving_avg['Quantity'], label='Sales(3Mon Moving Avg)', linestyle='--')\n",
    "\n",
    "plt.title('Monthly Trends: Total Sales, Profit, Quantity sold (with 3-Month Moving Avg)')\n",
    "plt.xlabel('Month-Year')\n",
    "plt.ylabel('Values')\n",
    "plt.legend()\n",
    "plt.grid(True)\n",
    "plt.tight_layout()\n",
    "plt.savefig('Line Chart Of Total Sales Profit Quantity by Month.png', dpi=300)\n",
    "plt.show()\n",
    "\n"
   ]
  },
  {
   "cell_type": "markdown",
   "id": "944f4b47",
   "metadata": {},
   "source": [
    "Compare monthly sales for each Category.\n"
   ]
  },
  {
   "cell_type": "code",
   "execution_count": 25,
   "id": "f1cd554a",
   "metadata": {},
   "outputs": [
    {
     "name": "stdout",
     "output_type": "stream",
     "text": [
      "                      Amount\n",
      "Category Month-Year         \n",
      "Clothing Apr-18      13478.0\n",
      "         Aug-18      11822.0\n",
      "         Dec-18       9545.0\n",
      "         Feb-19       9569.0\n",
      "         Jan-19      13466.0\n"
     ]
    }
   ],
   "source": [
    "final_df['Month-Year'] = pd.to_datetime(final_df['Order Date']).dt.strftime('%b-%y')\n",
    "\n",
    "Month_sales_category_wise = final_df.groupby(['Category', 'Month-Year']).agg({\n",
    "    'Amount':'sum'\n",
    "})\n",
    "\n",
    "Month_sales_category_wise.to_excel('Month_sales_category_wise.xlsx', index=True)\n",
    "print(Month_sales_category_wise.head(5))"
   ]
  },
  {
   "cell_type": "markdown",
   "id": "c4234c51",
   "metadata": {},
   "source": [
    "Find which sub-category has consistent growth.\n"
   ]
  },
  {
   "cell_type": "code",
   "execution_count": 26,
   "id": "4fe792cc",
   "metadata": {},
   "outputs": [
    {
     "name": "stdout",
     "output_type": "stream",
     "text": [
      "   Sub-Category      mean       std  consistency_score\n",
      "14      T-shirt  1.037739  2.126843           0.487925\n",
      "6         Kurti  4.269180  8.919981           0.478609\n",
      "12        Skirt  0.522978  1.117644           0.467929\n",
      "13        Stole  0.667117  1.590550           0.419426\n",
      "9      Printers  0.622030  1.485959           0.418605\n"
     ]
    },
    {
     "data": {
      "image/png": "[encoded data removed]",
      "text/plain": [
       "<Figure size 640x480 with 1 Axes>"
      ]
     },
     "metadata": {},
     "output_type": "display_data"
    }
   ],
   "source": [
    "# Convert order date and extract month-year\n",
    "final_df['Month-Year'] = pd.to_datetime(final_df['Order Date']).dt.to_period('M')\n",
    "\n",
    "# Group by Sub-Category and Month-Year\n",
    "subcat_monthly = final_df.groupby(['Sub-Category', 'Month-Year']).agg({\n",
    "    'Amount': 'sum'\n",
    "}).reset_index()\n",
    "\n",
    "# Sort for correct chronological order\n",
    "subcat_monthly = subcat_monthly.sort_values(['Sub-Category', 'Month-Year'])\n",
    "\n",
    "# Compute month-over-month growth rate for each Sub-Category\n",
    "subcat_monthly['Growth'] = subcat_monthly.groupby('Sub-Category')['Amount'].pct_change()\n",
    "\n",
    "# Measure growth consistency using the standard deviation (lower = more consistent)\n",
    "growth_consistency = (\n",
    "    subcat_monthly.groupby('Sub-Category')['Growth']\n",
    "    .agg(['mean', 'std'])\n",
    "    .reset_index()\n",
    ")\n",
    "\n",
    "# Drop subcategories with too few data points\n",
    "growth_consistency = growth_consistency.dropna()\n",
    "\n",
    "# Calculate a \"consistency score\" (optional)\n",
    "growth_consistency['consistency_score'] = growth_consistency['mean'] / growth_consistency['std']\n",
    "\n",
    "# Sort: higher mean growth & lower std → more consistent\n",
    "consistent_growth = growth_consistency.sort_values(\n",
    "    by=['consistency_score'], ascending=False\n",
    ")\n",
    "\n",
    "# Display top 5 most consistent sub-categories\n",
    "consistent_growth.to_excel('Consistent_growth.xlsx', index=True)\n",
    "print(consistent_growth.head())\n",
    "\n",
    "top_subcats = consistent_growth.head(3)['Sub-Category']\n",
    "\n",
    "for sub in top_subcats:\n",
    "    temp = subcat_monthly[subcat_monthly['Sub-Category'] == sub]\n",
    "    plt.plot(temp['Month-Year'].astype(str), temp['Amount'], marker='o', label=sub)\n",
    "\n",
    "plt.xticks(rotation=45)\n",
    "plt.title('Consistent Growth Sub-Categories (Sales Over Time)')\n",
    "plt.xlabel('Month-Year')\n",
    "plt.ylabel('Sales Amount')\n",
    "plt.legend()\n",
    "plt.tight_layout()\n",
    "plt.savefig('Consistant Growth Sub-Category.png', dpi=300)\n",
    "plt.show()\n"
   ]
  },
  {
   "cell_type": "markdown",
   "id": "3ef689ec",
   "metadata": {},
   "source": [
    "Find which sub-category has consistent growth.                    \n",
    "Highlight those that are declining.\n"
   ]
  },
  {
   "cell_type": "code",
   "execution_count": 27,
   "id": "ca95acbf",
   "metadata": {},
   "outputs": [
    {
     "name": "stdout",
     "output_type": "stream",
     "text": [
      "📉 Sub-categories with consistent decline:\n",
      "Empty DataFrame\n",
      "Columns: [Sub-Category, mean, std, consistency_score]\n",
      "Index: []\n"
     ]
    },
    {
     "name": "stderr",
     "output_type": "stream",
     "text": [
      "C:\\Users\\kasif\\AppData\\Local\\Temp\\ipykernel_9088\\1687693616.py:52: UserWarning:\n",
      "\n",
      "No artists with labels found to put in legend.  Note that artists whose label start with an underscore are ignored when legend() is called with no argument.\n",
      "\n"
     ]
    },
    {
     "data": {
      "image/png": "[encoded data removed]",
      "text/plain": [
       "<Figure size 1000x600 with 1 Axes>"
      ]
     },
     "metadata": {},
     "output_type": "display_data"
    }
   ],
   "source": [
    "# Convert order date and extract month-year\n",
    "final_df['Month-Year'] = pd.to_datetime(final_df['Order Date']).dt.to_period('M')\n",
    "\n",
    "# Group by Sub-Category and Month-Year\n",
    "subcat_monthly = final_df.groupby(['Sub-Category', 'Month-Year']).agg({\n",
    "    'Amount': 'sum'\n",
    "}).reset_index()\n",
    "\n",
    "# Sort for correct chronological order\n",
    "subcat_monthly = subcat_monthly.sort_values(['Sub-Category', 'Month-Year'])\n",
    "\n",
    "# Compute month-over-month growth rate for each Sub-Category\n",
    "subcat_monthly['Growth'] = subcat_monthly.groupby('Sub-Category')['Amount'].pct_change()\n",
    "\n",
    "# Measure growth consistency using the standard deviation (lower = more consistent)\n",
    "growth_consistency = (\n",
    "    subcat_monthly.groupby('Sub-Category')['Growth']\n",
    "    .agg(['mean', 'std'])\n",
    "    .reset_index()\n",
    ")\n",
    "\n",
    "# Drop subcategories with too few data points\n",
    "growth_consistency = growth_consistency.dropna()\n",
    "\n",
    "# Calculate a \"consistency score\" (optional)\n",
    "growth_consistency['consistency_score'] = growth_consistency['mean'] / growth_consistency['std']\n",
    "\n",
    "# Sort: higher mean growth & lower std → more consistent\n",
    "consistent_growth = growth_consistency.sort_values(\n",
    "    by=['consistency_score'], ascending=False\n",
    ")\n",
    "\n",
    "# Filter: consistently declining = negative mean growth + low volatility\n",
    "declining_subcats = growth_consistency[\n",
    "    (growth_consistency['mean'] < 0) & (growth_consistency['std'] < growth_consistency['std'].median())\n",
    "].sort_values(by='consistency_score', ascending=False)\n",
    "\n",
    "print(\"📉 Sub-categories with consistent decline:\")\n",
    "print(declining_subcats)\n",
    "\n",
    "\n",
    "top_decliners = declining_subcats.head(3)['Sub-Category']\n",
    "\n",
    "plt.figure(figsize=(10,6))\n",
    "for sub in top_decliners:\n",
    "    temp = subcat_monthly[subcat_monthly['Sub-Category'] == sub]\n",
    "    plt.plot(temp['Month-Year'].astype(str), temp['Amount'], marker='o', label=sub)\n",
    "\n",
    "plt.title('Consistently Declining Sub-Categories (Monthly Sales)')\n",
    "plt.xlabel('Month-Year')\n",
    "plt.ylabel('Sales Amount')\n",
    "plt.legend()\n",
    "plt.xticks(rotation=45)\n",
    "plt.tight_layout()\n",
    "plt.show()\n"
   ]
  },
  {
   "cell_type": "markdown",
   "id": "cf9911d5",
   "metadata": {},
   "source": []
  }
 ],
 "metadata": {
  "kernelspec": {
   "display_name": "Python 3",
   "language": "python",
   "name": "python3"
  },
  "language_info": {
   "codemirror_mode": {
    "name": "ipython",
    "version": 3
   },
   "file_extension": ".py",
   "mimetype": "text/x-python",
   "name": "python",
   "nbconvert_exporter": "python",
   "pygments_lexer": "ipython3",
   "version": "3.13.7"
  }
 },
 "nbformat": 4,
 "nbformat_minor": 5
}
